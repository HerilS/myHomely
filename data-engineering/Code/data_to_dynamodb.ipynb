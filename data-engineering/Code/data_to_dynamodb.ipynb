{
 "cells": [
  {
   "cell_type": "code",
   "execution_count": 1,
   "id": "attended-election",
   "metadata": {},
   "outputs": [],
   "source": [
    "import s3fs\n",
    "import pandas as pd\n",
    "import numpy as np\n",
    "from attributes import *\n",
    "import boto3, os\n",
    "import gc\n",
    "import pickle\n",
    "s3 = boto3.resource('s3')\n",
    "pd.set_option(\"display.max_columns\", 500)\n",
    "pd.set_option(\"display.max_rows\", 500)"
   ]
  },
  {
   "cell_type": "code",
   "execution_count": 2,
   "id": "primary-tolerance",
   "metadata": {},
   "outputs": [],
   "source": [
    "flatfile = pd.read_csv('s3://{}/{}'.format('myhomely/raja/Manifold-selected', 'flatfile' + '.csv')).drop(columns = ['Unnamed: 0'])"
   ]
  },
  {
   "cell_type": "code",
   "execution_count": 11,
   "id": "combined-combat",
   "metadata": {},
   "outputs": [],
   "source": [
    "flatfilemini = pd.read_csv('s3://{}/{}'.format('myhomely/raja/Manifold-selected', 'flatfilemini' + '.csv')).drop(columns = ['Unnamed: 0'])"
   ]
  },
  {
   "cell_type": "code",
   "execution_count": 3,
   "id": "micro-appliance",
   "metadata": {},
   "outputs": [
    {
     "data": {
      "text/plain": [
       "(764863, 96)"
      ]
     },
     "execution_count": 3,
     "metadata": {},
     "output_type": "execute_result"
    }
   ],
   "source": [
    "flatfile.shape"
   ]
  },
  {
   "cell_type": "code",
   "execution_count": 7,
   "id": "incorporate-mortality",
   "metadata": {
    "collapsed": true
   },
   "outputs": [
    {
     "data": {
      "text/plain": [
       "{'POSTCODE': 'A0A0B7',\n",
       " 'Percentage of total population in this postalcode that belongs to people between ages 0 -14 years': 12,\n",
       " 'Percentage of total population in this postalcode that belongs to people between ages 15 -29 years': 10,\n",
       " 'Percentage of total population in this postalcode that belongs to people between ages 30 -44 years': 12,\n",
       " 'Percentage of total population in this postalcode that belongs to people between ages 45 - 59 years': 21,\n",
       " 'Percentage of total population in this postalcode that belongs to people aged 60 and above': 42,\n",
       " 'Median age of total population: half of the population below this age, the other half above this age.': 56,\n",
       " 'Percentage of population above age 15 years married': 52,\n",
       " 'Percentage of population above age 15 years never married': 22,\n",
       " 'Percentage of population above age 15 years others (living common law, seperated, divorced and widowed)': 24,\n",
       " '% percentage of population in private households with No certificate, diploma or degree': 34,\n",
       " '% percentage of population in private households with Highest certificate : Secondary (high) school diploma or equivalency certificate': 23,\n",
       " '% percentage of population in private households with Highest certificate : Apprenticeship or trades certificate or diploma': 12,\n",
       " '% percentage of population in private households with Highest certificate : College, CEGEP or other non-university certificate or diploma or University certificate or diploma below bachelor level': 25,\n",
       " \"% percentage of population in private households with Highest certificate : Bachelor's degree\": 4,\n",
       " \"% percentage of population in private households with Highest certificate : University certificate or diploma above bachelor level or Master's degree\": 0,\n",
       " '% percentage of population in private households with Highest certificate : Degree in medicine, dentistry, veterinary medicine or optometry or Earned doctorate': 0,\n",
       " '% Percentage of private households with total household income under $25,000': 17,\n",
       " '% Percentage of private households with total household income from $25,000 to $59,999': 38,\n",
       " '% Percentage of private households with total household income from $60,000 to $99,999': 24,\n",
       " '% Percentage of private households with total household income  $100,000 and over': 19,\n",
       " 'Median total household income ($)': 53852,\n",
       " 'Average household total income ($)': 66646,\n",
       " '% of employed labor force aged 15 years and over in private households households with a usual place of work or no fixed workplace address with main mode of commute: Car, truck, van - as a passenger or driver': 76,\n",
       " \"% of employed labor force aged 15 years and over in private households households with a usual place of work or no fixed workplace address with main mode of commute: 'Public transit\": 0,\n",
       " \"% of employed labor force aged 15 years and over in private households households with a usual place of work or no fixed workplace address with main mode of commute: 'Walked\": 14,\n",
       " \"% of employed labor force aged 15 years and over in private households households with a usual place of work or no fixed workplace address with main mode of commute: 'Bicycle\": 0,\n",
       " \"% of employed labor force aged 15 years and over in private households households with a usual place of work or no fixed workplace address with main mode of commute: 'Other method\": 9,\n",
       " 'Total - Commuting duration for the employed labour force aged 15 years and over in private households with a usual place of work or no fixed workplace address: 0 to 29 minutes': 77,\n",
       " '30 to 59 minutes': 22,\n",
       " '60 minutes and over': 0,\n",
       " 'Total visible minority population': 0,\n",
       " \"Not a visible minority.  Includes respondents who reported 'Yes' to  Aboriginal (self-reporting) as well as respondents who were not considered to be members of a visible minority group.\": 100,\n",
       " 'Percentage of South Asian Population in Visible Minority': 0,\n",
       " 'Percentage of Chinese Population in Visible Minority': 0,\n",
       " 'Percentage of Black Population in Visible Minority': 0,\n",
       " 'Percentage of Latin American Population in Visible Minority': 0,\n",
       " 'Percentage of Arab and West Asian Population in Visible Minority': 0,\n",
       " 'Percentage of Filipino, Southeast Asian, Korean and Japanese Population in Visible Minority': 0,\n",
       " 'Others': 0,\n",
       " '% of labour froce population aged 15 years and over with Management occupations': 0,\n",
       " '% of labour froce population aged 15 years and over with Business, finance and administration occupations': 0,\n",
       " '% of labour froce population aged 15 years and over with Natural and applied sciences and related occupations': 13,\n",
       " '% of labour froce population aged 15 years and over with Health occupations': 0,\n",
       " '% of labour froce population aged 15 years and over with Occupations in education, law and social, community and government services': 20,\n",
       " '% of labour froce population aged 15 years and over with Occupations in art, culture, recreation and sport': 0,\n",
       " '% of labour froce population aged 15 years and over with Sales and service occupations': 16,\n",
       " '% of labour froce population aged 15 years and over with Trades, transport and equipment operators and related occupations': 22,\n",
       " '% of labour froce population aged 15 years and over with Natural resources, agriculture and related production occupations': 12,\n",
       " '% of labour froce population aged 15 years and over with Occupations in manufacturing and utilities': 15,\n",
       " '% of Occupied private dewellings with structural type Single-detached house': 100,\n",
       " '% of Occupied private dewellings with structural type Semi-detached house': 0,\n",
       " '% of Occupied private dewellings with structural type Row house': 0,\n",
       " '% of Occupied private dewellings with structural type Apartment, Detached duplex': 0,\n",
       " '% of Occupied private dewellings with structural type Other (single-attached house or Movable dewlling)': 0,\n",
       " '% of Private households owned (some member of the household owns the dwelling).': 100,\n",
       " '% of Private households rented (Some member of the household rents the dwelling).': 0,\n",
       " '% of Private households Band Housing (Refers to the dwelling that is Band housing : on an Indian reserve or settlement).': 0,\n",
       " '% of one family households without children': 50,\n",
       " '% of one family households with children': 49,\n",
       " 'LowerBound price of single family detached homes in this region': 72634,\n",
       " 'Median price of single family detached homes in this region': 114355,\n",
       " 'UpperBound price of single family detached homes in this region': 224611,\n",
       " 'Average number of bed of single family detached homes in this region': 2,\n",
       " 'Average number of bath of single family detached homes in this region': 1,\n",
       " 'LowerBound price of semi detached homes in this region': 199481,\n",
       " 'Median price of semi detached homes in this region': 248666,\n",
       " 'UpperBound price of semi detached homes in this region': 306603,\n",
       " 'Average number of bed of semi detached homes in this region': 2,\n",
       " 'Average number of bath of semi detached homes in this region': 1,\n",
       " 'LowerBound price of condo in this region': 243831,\n",
       " 'Median price of condo in this region': 329348,\n",
       " 'UpperBound price of condo in this region': 469064,\n",
       " 'Average number of bed of condo in this region': 2,\n",
       " 'Average number of bath of condo in this region': 1,\n",
       " 'LowerBound price of row house in this region': 193083,\n",
       " 'Median price of row house in this region': 244503,\n",
       " 'UpperBound price of row house in this region': 303221,\n",
       " 'Average number of bed of row house in this region': 2,\n",
       " 'Average number of bath of row house in this region': 1,\n",
       " 'Proximity to Education for single family detached houses in this postal code in comparison at FSA level': 'High',\n",
       " 'Proximity to Health for single family detached houses in this postal code in comparison at FSA level': 'High',\n",
       " 'Proximity to Commercial for single family detached houses in this postal code in comparison at FSA level': 'High',\n",
       " 'Proximity to Entertainment for single family detached houses in this postal code in comparison at FSA level': 'High',\n",
       " 'Proximity to Education for semi detached houses in this postal code in comparison at FSA level': 'Medium',\n",
       " 'Proximity to Health for semi detached houses in this postal code in comparison at FSA level': 'Medium',\n",
       " 'Proximity to Commercial for semi detached houses in this postal code in comparison at FSA level': 'Medium',\n",
       " 'Proximity to Entertainment for semi detached houses in this postal code in comparison at FSA level': 'Medium',\n",
       " 'Proximity to Education for condo houses in this postal code in comparison at FSA level': 'Medium',\n",
       " 'Proximity to Health for condo houses in this postal code in comparison at FSA level': 'Medium',\n",
       " 'Proximity to Commercial forcondo houses in this postal code in comparison at FSA level': 'Medium',\n",
       " 'Proximity to Entertainment for condo houses in this postal code in comparison at FSA level': 'Medium',\n",
       " 'Proximity to Education for row houses in this postal code in comparison at FSA level': 'Medium',\n",
       " 'Proximity to Health for row houses in this postal code in comparison at FSA level': 'Medium',\n",
       " 'Proximity to Commercial for row houses in this postal code in comparison at FSA level': 'Medium',\n",
       " 'Proximity to Entertainment for row houses in this postal code in comparison at FSA level': 'Medium'}"
      ]
     },
     "execution_count": 7,
     "metadata": {},
     "output_type": "execute_result"
    }
   ],
   "source": [
    "dict(flatfile.iloc[0,:])"
   ]
  },
  {
   "cell_type": "code",
   "execution_count": 31,
   "id": "contemporary-anchor",
   "metadata": {},
   "outputs": [],
   "source": [
    "def converttoint(x):\n",
    "    for key in x.keys():\n",
    "        if type(x[key]) == np.int64:\n",
    "            x[key] = int(x[key])\n",
    "    return x"
   ]
  },
  {
   "cell_type": "code",
   "execution_count": 8,
   "id": "everyday-consortium",
   "metadata": {},
   "outputs": [],
   "source": [
    "from pprint import pprint\n",
    "import boto3\n",
    "# client = boto3.client('dynamodb')\n",
    "# table = client.list_tables()\n",
    "dynamodb = boto3.resource('dynamodb')\n",
    "table = dynamodb.Table('Flatfilemini')"
   ]
  },
  {
   "cell_type": "code",
   "execution_count": 40,
   "id": "existing-federal",
   "metadata": {},
   "outputs": [
    {
     "data": {
      "text/plain": [
       "42353"
      ]
     },
     "execution_count": 40,
     "metadata": {},
     "output_type": "execute_result"
    }
   ],
   "source": [
    "flatfilemini.shape[0]"
   ]
  },
  {
   "cell_type": "code",
   "execution_count": 43,
   "id": "disabled-negative",
   "metadata": {},
   "outputs": [
    {
     "data": {
      "text/plain": [
       "0"
      ]
     },
     "execution_count": 43,
     "metadata": {},
     "output_type": "execute_result"
    }
   ],
   "source": [
    "100%100"
   ]
  },
  {
   "cell_type": "code",
   "execution_count": null,
   "id": "outdoor-broadway",
   "metadata": {},
   "outputs": [
    {
     "name": "stdout",
     "output_type": "stream",
     "text": [
      "3000 are done\n",
      "3000 are done\n"
     ]
    }
   ],
   "source": [
    "for i in range(0,flatfilemini.shape[0]):\n",
    "    table.put_item(Item = converttoint(dict(flatfilemini.iloc[i,:])))\n",
    "    if i%3000 == 0:\n",
    "        print(\"3000 are done\")"
   ]
  },
  {
   "cell_type": "code",
   "execution_count": null,
   "id": "attended-report",
   "metadata": {},
   "outputs": [],
   "source": []
  }
 ],
 "metadata": {
  "kernelspec": {
   "display_name": "Python 3",
   "language": "python",
   "name": "python3"
  },
  "language_info": {
   "codemirror_mode": {
    "name": "ipython",
    "version": 3
   },
   "file_extension": ".py",
   "mimetype": "text/x-python",
   "name": "python",
   "nbconvert_exporter": "python",
   "pygments_lexer": "ipython3",
   "version": "3.8.5"
  }
 },
 "nbformat": 4,
 "nbformat_minor": 5
}
