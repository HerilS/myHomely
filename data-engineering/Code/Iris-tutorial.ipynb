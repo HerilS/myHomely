{
 "cells": [
  {
   "cell_type": "code",
   "execution_count": 1,
   "id": "clean-patrick",
   "metadata": {},
   "outputs": [],
   "source": [
    "data(iris)"
   ]
  },
  {
   "cell_type": "code",
   "execution_count": 2,
   "id": "chief-money",
   "metadata": {},
   "outputs": [
    {
     "name": "stdout",
     "output_type": "stream",
     "text": [
      "package 'randomForest' successfully unpacked and MD5 sums checked\n"
     ]
    },
    {
     "name": "stderr",
     "output_type": "stream",
     "text": [
      "Warning message:\n",
      "\"cannot remove prior installation of package 'randomForest'\"Warning message in file.copy(savedcopy, lib, recursive = TRUE):\n",
      "\"problem copying C:\\Users\\Naga Raja Paidimarri\\.conda\\envs\\r-tutorial\\Lib\\R\\library\\00LOCK\\randomForest\\libs\\x64\\randomForest.dll to C:\\Users\\Naga Raja Paidimarri\\.conda\\envs\\r-tutorial\\Lib\\R\\library\\randomForest\\libs\\x64\\randomForest.dll: Permission denied\"Warning message:\n",
      "\"restored 'randomForest'\""
     ]
    },
    {
     "name": "stdout",
     "output_type": "stream",
     "text": [
      "\n",
      "The downloaded binary packages are in\n",
      "\tC:\\Users\\Naga Raja Paidimarri\\AppData\\Local\\Temp\\RtmpA14K0f\\downloaded_packages\n"
     ]
    }
   ],
   "source": [
    "install.packages('randomForest')"
   ]
  },
  {
   "cell_type": "code",
   "execution_count": 3,
   "id": "essential-fence",
   "metadata": {},
   "outputs": [
    {
     "name": "stderr",
     "output_type": "stream",
     "text": [
      "Warning message:\n",
      "\"package 'randomForest' was built under R version 3.6.3\"randomForest 4.6-14\n",
      "Type rfNews() to see new features/changes/bug fixes.\n"
     ]
    }
   ],
   "source": [
    "library('randomForest')"
   ]
  },
  {
   "cell_type": "code",
   "execution_count": 4,
   "id": "hydraulic-worthy",
   "metadata": {},
   "outputs": [],
   "source": [
    "model = randomForest(Species ~ ., data = iris)\n"
   ]
  },
  {
   "cell_type": "code",
   "execution_count": 5,
   "id": "portable-trust",
   "metadata": {},
   "outputs": [
    {
     "data": {
      "text/plain": [
       "\n",
       "Call:\n",
       " randomForest(formula = Species ~ ., data = iris) \n",
       "               Type of random forest: classification\n",
       "                     Number of trees: 500\n",
       "No. of variables tried at each split: 2\n",
       "\n",
       "        OOB estimate of  error rate: 5.33%\n",
       "Confusion matrix:\n",
       "           setosa versicolor virginica class.error\n",
       "setosa         50          0         0        0.00\n",
       "versicolor      0         47         3        0.06\n",
       "virginica       0          5        45        0.10"
      ]
     },
     "metadata": {},
     "output_type": "display_data"
    }
   ],
   "source": [
    "model"
   ]
  },
  {
   "cell_type": "code",
   "execution_count": 6,
   "id": "paperback-worst",
   "metadata": {},
   "outputs": [],
   "source": [
    "save(model, file = \"model.RDS\")"
   ]
  },
  {
   "cell_type": "code",
   "execution_count": 15,
   "id": "quick-calvin",
   "metadata": {},
   "outputs": [
    {
     "name": "stderr",
     "output_type": "stream",
     "text": [
      "also installing the dependencies 'rlang', 'webutils', 'promises', 'sodium', 'swagger', 'lifecycle'\n",
      "\n"
     ]
    },
    {
     "name": "stdout",
     "output_type": "stream",
     "text": [
      "package 'rlang' successfully unpacked and MD5 sums checked\n",
      "package 'webutils' successfully unpacked and MD5 sums checked\n",
      "package 'promises' successfully unpacked and MD5 sums checked\n",
      "package 'sodium' successfully unpacked and MD5 sums checked\n",
      "package 'swagger' successfully unpacked and MD5 sums checked\n",
      "package 'lifecycle' successfully unpacked and MD5 sums checked\n",
      "package 'plumber' successfully unpacked and MD5 sums checked\n",
      "\n",
      "The downloaded binary packages are in\n",
      "\tC:\\Users\\Naga Raja Paidimarri\\AppData\\Local\\Temp\\RtmpUj9vzz\\downloaded_packages\n"
     ]
    }
   ],
   "source": [
    "install.packages('plumber')"
   ]
  },
  {
   "cell_type": "code",
   "execution_count": null,
   "id": "optimum-construction",
   "metadata": {},
   "outputs": [],
   "source": [
    "update.packages(ask=FALSE, checkBuilt=TRUE)"
   ]
  },
  {
   "cell_type": "code",
   "execution_count": 7,
   "id": "duplicate-september",
   "metadata": {},
   "outputs": [
    {
     "name": "stdout",
     "output_type": "stream",
     "text": [
      "package 'plumber' successfully unpacked and MD5 sums checked\n",
      "\n",
      "The downloaded binary packages are in\n",
      "\tC:\\Users\\Naga Raja Paidimarri\\AppData\\Local\\Temp\\RtmpA14K0f\\downloaded_packages\n"
     ]
    }
   ],
   "source": [
    "install.packages(\"plumber\",INSTALL_opts=\"--no-multiarch\")"
   ]
  },
  {
   "cell_type": "code",
   "execution_count": 8,
   "id": "damaged-macedonia",
   "metadata": {},
   "outputs": [
    {
     "name": "stderr",
     "output_type": "stream",
     "text": [
      "Warning message:\n",
      "\"package 'plumber' was built under R version 3.6.3\""
     ]
    },
    {
     "ename": "ERROR",
     "evalue": "Error: package or namespace load failed for 'plumber' in inDL(x, as.logical(local), as.logical(now), ...):\n function 'execLaterNative2' not provided by package 'later'\n",
     "output_type": "error",
     "traceback": [
      "Error: package or namespace load failed for 'plumber' in inDL(x, as.logical(local), as.logical(now), ...):\n function 'execLaterNative2' not provided by package 'later'\nTraceback:\n",
      "1. library(\"plumber\")",
      "2. tryCatch({\n .     attr(package, \"LibPath\") <- which.lib.loc\n .     ns <- loadNamespace(package, lib.loc)\n .     env <- attachNamespace(ns, pos = pos, deps, exclude, include.only)\n . }, error = function(e) {\n .     P <- if (!is.null(cc <- conditionCall(e))) \n .         paste(\" in\", deparse(cc)[1L])\n .     else \"\"\n .     msg <- gettextf(\"package or namespace load failed for %s%s:\\n %s\", \n .         sQuote(package), P, conditionMessage(e))\n .     if (logical.return) \n .         message(paste(\"Error:\", msg), domain = NA)\n .     else stop(msg, call. = FALSE, domain = NA)\n . })",
      "3. tryCatchList(expr, classes, parentenv, handlers)",
      "4. tryCatchOne(expr, names, parentenv, handlers[[1L]])",
      "5. value[[3L]](cond)",
      "6. stop(msg, call. = FALSE, domain = NA)"
     ]
    }
   ],
   "source": [
    "library('plumber')"
   ]
  },
  {
   "cell_type": "code",
   "execution_count": 10,
   "id": "directed-array",
   "metadata": {},
   "outputs": [
    {
     "name": "stdout",
     "output_type": "stream",
     "text": [
      "package 'remotes' successfully unpacked and MD5 sums checked\n",
      "\n",
      "The downloaded binary packages are in\n",
      "\tC:\\Users\\Naga Raja Paidimarri\\AppData\\Local\\Temp\\RtmpA14K0f\\downloaded_packages\n"
     ]
    }
   ],
   "source": [
    "install.packages('remotes')"
   ]
  },
  {
   "cell_type": "code",
   "execution_count": 11,
   "id": "earlier-replica",
   "metadata": {},
   "outputs": [
    {
     "name": "stderr",
     "output_type": "stream",
     "text": [
      "Warning message:\n",
      "\"package 'remotes' was built under R version 3.6.3\""
     ]
    }
   ],
   "source": [
    "library('remotes')"
   ]
  },
  {
   "cell_type": "code",
   "execution_count": null,
   "id": "impossible-cartoon",
   "metadata": {},
   "outputs": [],
   "source": [
    "remotes::install_github(\"rstudio/plumber\")\n",
    "library(plumber)"
   ]
  },
  {
   "cell_type": "code",
   "execution_count": null,
   "id": "sweet-castle",
   "metadata": {},
   "outputs": [
    {
     "name": "stderr",
     "output_type": "stream",
     "text": [
      "Warning message:\n",
      "\"package 'plumber' was built under R version 3.6.3\""
     ]
    }
   ],
   "source": [
    "library(plumber)\n",
    "library(randomForest)\n",
    "#* @apiTitle API de clasificacion de flores\n",
    "#* @param petal_length Longitud del Petalo \n",
    "#* @param petal_width Ancho del Petalo \n",
    "#* @param sepal_length Longitud del Sepalo \n",
    "#* @param sepal_width Ancho del Sepalo \n",
    "#* @post /clasificador\n",
    "\n",
    "# function(petal_length, petal_width, sepal_length, sepal_width){\n",
    "    \n",
    "#     load(&quot;model.RData&quot;)\n",
    "\n",
    "#     test = c(sepal_length, sepal_width, petal_length, petal_width)\n",
    "#     test = sapply(test, as.numeric)\n",
    "#     test = data.frame(matrix(test, ncol = 4))\n",
    "\n",
    "#     colnames(test) = colnames(iris[,1:4])\n",
    "#     predict(model, test)\n",
    "\n",
    "# }"
   ]
  },
  {
   "cell_type": "code",
   "execution_count": null,
   "id": "conventional-channel",
   "metadata": {},
   "outputs": [],
   "source": []
  }
 ],
 "metadata": {
  "kernelspec": {
   "display_name": "R",
   "language": "R",
   "name": "ir"
  },
  "language_info": {
   "codemirror_mode": "r",
   "file_extension": ".r",
   "mimetype": "text/x-r-source",
   "name": "R",
   "pygments_lexer": "r",
   "version": "3.6.1"
  }
 },
 "nbformat": 4,
 "nbformat_minor": 5
}
