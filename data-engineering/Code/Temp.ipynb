{
 "cells": [
  {
   "cell_type": "code",
   "execution_count": null,
   "metadata": {},
   "outputs": [],
   "source": [
    "attribute = 'Prox_Accommodation_Score'\n",
    "temp4 = df1.groupby('FSA').agg({attribute: ['min', 'max']}) \n",
    "temp4 = temp4.reset_index()\n",
    "# temp4['diff'] = temp4[attribute]['max'] - temp4[attribute]['min']\n",
    "tempp = pd.DataFrame()\n",
    "tempp['FSA'] = temp4['FSA'].values\n",
    "# tempp['diff'] = temp4['diff'].values\n",
    "tempp['min'] = temp4[attribute]['min'].values\n",
    "tempp['max'] = temp4[attribute]['max'].values\n",
    "tempp['diff'] = tempp.apply(lambda x: small(x['min'],x['max']), axis = 1)\n",
    "# tempp['diff'] = tempp['diff'].replace(0,0.0000001)\n",
    "tempp = tempp[['FSA','diff']]\n",
    "# temp4 = temp4.reset_index(drop = True)\n",
    "# temp4.head(4)\n",
    "df1 = pd.merge(df1,tempp, on ='FSA', how = 'left')\n",
    "df1[attribute + '_scaled'] = df1[attribute]/df1['diff']"
   ]
  },
  {
   "cell_type": "code",
   "execution_count": null,
   "metadata": {},
   "outputs": [],
   "source": [
    "lambda x: np.percentile(x, q=100)"
   ]
  },
  {
   "cell_type": "code",
   "execution_count": null,
   "metadata": {},
   "outputs": [],
   "source": [
    "# temp4['diff'].loc[(temp4['diff'] == 0)] = temp4[attribute]['min'][temp4['diff'] == 0].values"
   ]
  },
  {
   "cell_type": "code",
   "execution_count": null,
   "metadata": {},
   "outputs": [],
   "source": [
    "df = flatfilemini.copy()\n",
    "postalcode = 'A0A0C2'"
   ]
  },
  {
   "cell_type": "code",
   "execution_count": null,
   "metadata": {},
   "outputs": [],
   "source": [
    "df[df['POSTCODE'] == postalcode].values[0]"
   ]
  },
  {
   "cell_type": "code",
   "execution_count": null,
   "metadata": {},
   "outputs": [],
   "source": [
    "df.mean().values"
   ]
  },
  {
   "cell_type": "code",
   "execution_count": null,
   "metadata": {},
   "outputs": [],
   "source": [
    "np.concatenate((np.array([postalcode]),df.mean().values.round(2)), axis=0)"
   ]
  },
  {
   "cell_type": "code",
   "execution_count": null,
   "metadata": {},
   "outputs": [],
   "source": [
    "x = df.mean().values[0]\n",
    "for i in range(1,5):\n",
    "    print(i)\n",
    "    x = x +df.mean().values[i]"
   ]
  },
  {
   "cell_type": "code",
   "execution_count": null,
   "metadata": {},
   "outputs": [],
   "source": []
  }
 ],
 "metadata": {
  "kernelspec": {
   "display_name": "Python 3",
   "language": "python",
   "name": "python3"
  },
  "language_info": {
   "codemirror_mode": {
    "name": "ipython",
    "version": 3
   },
   "file_extension": ".py",
   "mimetype": "text/x-python",
   "name": "python",
   "nbconvert_exporter": "python",
   "pygments_lexer": "ipython3",
   "version": "3.8.5"
  }
 },
 "nbformat": 4,
 "nbformat_minor": 4
}
