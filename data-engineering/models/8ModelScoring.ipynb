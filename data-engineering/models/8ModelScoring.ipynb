{
 "cells": [
  {
   "cell_type": "code",
   "execution_count": 11,
   "id": "nonprofit-camel",
   "metadata": {},
   "outputs": [
    {
     "name": "stdout",
     "output_type": "stream",
     "text": [
      "package 'gbm' successfully unpacked and MD5 sums checked\n",
      "\n",
      "The downloaded binary packages are in\n",
      "\tC:\\Users\\Naga Raja Paidimarri\\AppData\\Local\\Temp\\RtmpmAhlwK\\downloaded_packages\n"
     ]
    }
   ],
   "source": [
    "install.packages(\"gbm\")"
   ]
  },
  {
   "cell_type": "code",
   "execution_count": 1,
   "id": "sitting-dallas",
   "metadata": {},
   "outputs": [
    {
     "name": "stderr",
     "output_type": "stream",
     "text": [
      "Loading required package: dplyr\n",
      "\n",
      "Attaching package: 'dplyr'\n",
      "\n",
      "The following objects are masked from 'package:stats':\n",
      "\n",
      "    filter, lag\n",
      "\n",
      "The following objects are masked from 'package:base':\n",
      "\n",
      "    intersect, setdiff, setequal, union\n",
      "\n",
      "Loading required package: data.table\n",
      "\n",
      "Attaching package: 'data.table'\n",
      "\n",
      "The following objects are masked from 'package:dplyr':\n",
      "\n",
      "    between, first, last\n",
      "\n",
      "Loading required package: gbm\n",
      "Warning message:\n",
      "\"package 'gbm' was built under R version 3.6.3\"Loaded gbm 2.1.8\n"
     ]
    }
   ],
   "source": [
    "# -- Clean\n",
    "# rm(list=ls())\n",
    "# gc()\n",
    "\n",
    "# -- Setup\n",
    "{\n",
    "#   setwd(\"C:/Users/TA/Desktop/\")\n",
    "#   Code = \"Code/\"\n",
    "#   Data = \"Data/\"\n",
    "#   Model = \"Model/\"\n",
    "#   Score = \"Score/\"\n",
    "  \n",
    "  require(dplyr)\n",
    "  require(data.table)\n",
    "#   require(fastDummies)\n",
    "#   require(lubridate)\n",
    "#   require(stringr)\n",
    "#   require(DescTools)\n",
    "#   require(readxl)\n",
    "#   require(bit64)\n",
    "#   require(vcd)\n",
    "#   require(caret)\n",
    "#   require(ranger)\n",
    "#   require(randomForest)\n",
    "#   require(xgboost)\n",
    "  require(gbm)\n",
    "#   require(e1071)\n",
    "#   require(MASS)\n",
    "}\n"
   ]
  },
  {
   "cell_type": "code",
   "execution_count": 2,
   "id": "mineral-tension",
   "metadata": {},
   "outputs": [],
   "source": [
    "# require(gbm)"
   ]
  },
  {
   "cell_type": "code",
   "execution_count": 3,
   "id": "sitting-montreal",
   "metadata": {},
   "outputs": [],
   "source": [
    "\n",
    "# -- Load Pre-trained models\n",
    "{\n",
    "  mAB = readRDS(\"modelAB202011.RDS\")\n",
    "  mATL = readRDS(\"modelATL202011.RDS\")\n",
    "  mBC = readRDS(\"modelBC202011.RDS\")\n",
    "  mON = readRDS(\"modelON202011.RDS\")\n",
    "  mQC = readRDS(\"modelQC202011.RDS\")\n",
    "  mSKMB = readRDS(\"modelSKMB202011.RDS\")\n",
    "}\n"
   ]
  },
  {
   "cell_type": "code",
   "execution_count": 32,
   "id": "outstanding-coordinator",
   "metadata": {},
   "outputs": [
    {
     "name": "stderr",
     "output_type": "stream",
     "text": [
      "Using 15000 trees...\n",
      "\n"
     ]
    },
    {
     "data": {
      "text/html": [
       "671391"
      ],
      "text/latex": [
       "671391"
      ],
      "text/markdown": [
       "671391"
      ],
      "text/plain": [
       "[1] 671391"
      ]
     },
     "metadata": {},
     "output_type": "display_data"
    }
   ],
   "source": [
    "{\n",
    "  obs = read.csv(\"testPropertyON.csv\"); obs = obs[,c(1:8)] # colnames(obs) = c(paste0(\"var\", 1:ncol(obs)))\n",
    "\n",
    "  fullManifold = readRDS(\"fullManifold2020.RDS\")\n",
    "  manifold = fullManifold[postalCode==obs$postalCode,][.N,-c(1,2,69)] \n",
    "\n",
    "  fullRPS = readRDS(\"fullRPS2020.RDS\")\n",
    "  rps = fullRPS[postalCode==obs$postalCode & propertyStyle==obs$propertyStyle,][.N,-c(1,2,26,27)] \n",
    "  \n",
    "  lookupCREA = readRDS(\"cleanCREALookup2020.RDS\")\n",
    "  crea = readRDS(\"cleanCREAData2020.RDS\")\n",
    "  lookup = lookupCREA[FSALDU==obs$postalCode][.N,c(6)]\n",
    "  creaHPI = crea[lookup$CREA_Region==CREA_Region][.N,c(4)]\n",
    "  \n",
    "  econNat = readRDS(\"cleanEconomic2020National.RDS\")\n",
    "  econProv = readRDS(\"cleanEconomic2020Province.RDS\")\n",
    "  econNational = econNat[.N,c(2:4)]\n",
    "  econProvincial = econProv[Region==obs$province][.N,3:6]\n",
    "  \n",
    "  obs = cbind(obs,creaHPI,econNational,econProvincial,rps,manifold)\n",
    "  obs = obs[,-c(1,3:4)]\n",
    "  \n",
    "  colnames(obs)\n",
    "  \n",
    "  ceiling(exp(predict.gbm(mON,obs))) # 680000\n",
    "} "
   ]
  },
  {
   "cell_type": "code",
   "execution_count": 81,
   "id": "employed-unknown",
   "metadata": {},
   "outputs": [],
   "source": [
    "obs = read.csv(\"testPropertyON.csv\"); obs = obs[,c(1:8)]"
   ]
  },
  {
   "cell_type": "code",
   "execution_count": 83,
   "id": "backed-utility",
   "metadata": {},
   "outputs": [
    {
     "data": {
      "text/html": [
       "'data.frame'"
      ],
      "text/latex": [
       "'data.frame'"
      ],
      "text/markdown": [
       "'data.frame'"
      ],
      "text/plain": [
       "[1] \"data.frame\""
      ]
     },
     "metadata": {},
     "output_type": "display_data"
    }
   ],
   "source": [
    "class(obs)"
   ]
  },
  {
   "cell_type": "code",
   "execution_count": 45,
   "id": "irish-vessel",
   "metadata": {},
   "outputs": [
    {
     "data": {
      "text/html": [
       "'double'"
      ],
      "text/latex": [
       "'double'"
      ],
      "text/markdown": [
       "'double'"
      ],
      "text/plain": [
       "[1] \"double\""
      ]
     },
     "metadata": {},
     "output_type": "display_data"
    }
   ],
   "source": [
    "typeof(obs$propertyStyle)"
   ]
  },
  {
   "cell_type": "code",
   "execution_count": 82,
   "id": "celtic-denver",
   "metadata": {},
   "outputs": [
    {
     "data": {
      "text/html": [
       "<table>\n",
       "<thead><tr><th scope=col>postalCode</th><th scope=col>propertyStyle</th><th scope=col>fsa</th><th scope=col>province</th><th scope=col>propertyAge</th><th scope=col>sizeBuild</th><th scope=col>sizeLot</th><th scope=col>propertyTax</th></tr></thead>\n",
       "<tbody>\n",
       "\t<tr><td>L9T0J7</td><td>2     </td><td>L9T   </td><td>ON    </td><td>7     </td><td>118   </td><td>172   </td><td>232   </td></tr>\n",
       "</tbody>\n",
       "</table>\n"
      ],
      "text/latex": [
       "\\begin{tabular}{r|llllllll}\n",
       " postalCode & propertyStyle & fsa & province & propertyAge & sizeBuild & sizeLot & propertyTax\\\\\n",
       "\\hline\n",
       "\t L9T0J7 & 2      & L9T    & ON     & 7      & 118    & 172    & 232   \\\\\n",
       "\\end{tabular}\n"
      ],
      "text/markdown": [
       "\n",
       "| postalCode | propertyStyle | fsa | province | propertyAge | sizeBuild | sizeLot | propertyTax |\n",
       "|---|---|---|---|---|---|---|---|\n",
       "| L9T0J7 | 2      | L9T    | ON     | 7      | 118    | 172    | 232    |\n",
       "\n"
      ],
      "text/plain": [
       "  postalCode propertyStyle fsa province propertyAge sizeBuild sizeLot\n",
       "1 L9T0J7     2             L9T ON       7           118       172    \n",
       "  propertyTax\n",
       "1 232        "
      ]
     },
     "metadata": {},
     "output_type": "display_data"
    }
   ],
   "source": [
    "obs"
   ]
  },
  {
   "cell_type": "code",
   "execution_count": 84,
   "id": "balanced-measure",
   "metadata": {},
   "outputs": [
    {
     "name": "stdout",
     "output_type": "stream",
     "text": [
      "'data.frame':\t1 obs. of  8 variables:\n",
      " $ postalCode   : Factor w/ 1 level \"L9T0J7\": 1\n",
      " $ propertyStyle: int 2\n",
      " $ fsa          : Factor w/ 1 level \"L9T\": 1\n",
      " $ province     : Factor w/ 1 level \"ON\": 1\n",
      " $ propertyAge  : int 7\n",
      " $ sizeBuild    : int 118\n",
      " $ sizeLot      : int 172\n",
      " $ propertyTax  : int 232\n"
     ]
    }
   ],
   "source": [
    "str(obs)"
   ]
  },
  {
   "cell_type": "code",
   "execution_count": 91,
   "id": "aggressive-bench",
   "metadata": {},
   "outputs": [
    {
     "data": {
      "text/html": [
       "'data.frame'"
      ],
      "text/latex": [
       "'data.frame'"
      ],
      "text/markdown": [
       "'data.frame'"
      ],
      "text/plain": [
       "[1] \"data.frame\""
      ]
     },
     "metadata": {},
     "output_type": "display_data"
    }
   ],
   "source": [
    "obs = data.frame('postalCode' = c(postalCode),\n",
    "                   'propertyStyle' = as.integer(c(propertyStyle)),\n",
    "                   'fsa' = c(fsa),\n",
    "                   'province' = c(province),\n",
    "                   'propertyAge' = as.integer(c(propertyAge)),\n",
    "                   'sizeBuild' = as.integer(c(sizeBuild)),\n",
    "                   'sizeLot' = as.integer(c(sizeLot)),\n",
    "                   'propertyTax' = as.integer(c(propertyTax))\n",
    "                 )\n",
    "class(obs)"
   ]
  },
  {
   "cell_type": "code",
   "execution_count": 92,
   "id": "grateful-cornwall",
   "metadata": {},
   "outputs": [
    {
     "data": {
      "text/html": [
       "<table>\n",
       "<thead><tr><th scope=col>postalCode</th><th scope=col>propertyStyle</th><th scope=col>fsa</th><th scope=col>province</th><th scope=col>propertyAge</th><th scope=col>sizeBuild</th><th scope=col>sizeLot</th><th scope=col>propertyTax</th></tr></thead>\n",
       "<tbody>\n",
       "\t<tr><td>L9T0J7</td><td>2     </td><td>L9T   </td><td>ON    </td><td>7     </td><td>118   </td><td>112   </td><td>232   </td></tr>\n",
       "</tbody>\n",
       "</table>\n"
      ],
      "text/latex": [
       "\\begin{tabular}{r|llllllll}\n",
       " postalCode & propertyStyle & fsa & province & propertyAge & sizeBuild & sizeLot & propertyTax\\\\\n",
       "\\hline\n",
       "\t L9T0J7 & 2      & L9T    & ON     & 7      & 118    & 112    & 232   \\\\\n",
       "\\end{tabular}\n"
      ],
      "text/markdown": [
       "\n",
       "| postalCode | propertyStyle | fsa | province | propertyAge | sizeBuild | sizeLot | propertyTax |\n",
       "|---|---|---|---|---|---|---|---|\n",
       "| L9T0J7 | 2      | L9T    | ON     | 7      | 118    | 112    | 232    |\n",
       "\n"
      ],
      "text/plain": [
       "  postalCode propertyStyle fsa province propertyAge sizeBuild sizeLot\n",
       "1 L9T0J7     2             L9T ON       7           118       112    \n",
       "  propertyTax\n",
       "1 232        "
      ]
     },
     "metadata": {},
     "output_type": "display_data"
    }
   ],
   "source": [
    "obs"
   ]
  },
  {
   "cell_type": "code",
   "execution_count": 93,
   "id": "pleasant-density",
   "metadata": {},
   "outputs": [
    {
     "data": {
      "text/html": [
       "'integer'"
      ],
      "text/latex": [
       "'integer'"
      ],
      "text/markdown": [
       "'integer'"
      ],
      "text/plain": [
       "[1] \"integer\""
      ]
     },
     "metadata": {},
     "output_type": "display_data"
    }
   ],
   "source": [
    "typeof(obs$propertyStyle)"
   ]
  },
  {
   "cell_type": "code",
   "execution_count": 94,
   "id": "instrumental-graduation",
   "metadata": {},
   "outputs": [
    {
     "name": "stdout",
     "output_type": "stream",
     "text": [
      "'data.frame':\t1 obs. of  8 variables:\n",
      " $ postalCode   : Factor w/ 1 level \"L9T0J7\": 1\n",
      " $ propertyStyle: int 2\n",
      " $ fsa          : Factor w/ 1 level \"L9T\": 1\n",
      " $ province     : Factor w/ 1 level \"ON\": 1\n",
      " $ propertyAge  : int 7\n",
      " $ sizeBuild    : int 118\n",
      " $ sizeLot      : int 112\n",
      " $ propertyTax  : int 232\n"
     ]
    }
   ],
   "source": [
    "str(obs)"
   ]
  },
  {
   "cell_type": "code",
   "execution_count": 45,
   "id": "graduate-crest",
   "metadata": {},
   "outputs": [],
   "source": [
    "postalCode='L9T0J7'\n",
    "propertyStyle=2\n",
    "fsa='L9T'\n",
    "province='ON'\n",
    "propertyAge=7\n",
    "sizeBuild=118\n",
    "sizeLot=112\n",
    "propertyTax=232"
   ]
  },
  {
   "cell_type": "code",
   "execution_count": 41,
   "id": "liable-crossing",
   "metadata": {},
   "outputs": [
    {
     "data": {
      "text/plain": [
       "               _                           \n",
       "platform       x86_64-w64-mingw32          \n",
       "arch           x86_64                      \n",
       "os             mingw32                     \n",
       "system         x86_64, mingw32             \n",
       "status                                     \n",
       "major          3                           \n",
       "minor          6.1                         \n",
       "year           2019                        \n",
       "month          07                          \n",
       "day            05                          \n",
       "svn rev        76782                       \n",
       "language       R                           \n",
       "version.string R version 3.6.1 (2019-07-05)\n",
       "nickname       Action of the Toes          "
      ]
     },
     "metadata": {},
     "output_type": "display_data"
    }
   ],
   "source": [
    "version"
   ]
  },
  {
   "cell_type": "code",
   "execution_count": 42,
   "id": "apparent-basement",
   "metadata": {},
   "outputs": [
    {
     "name": "stderr",
     "output_type": "stream",
     "text": [
      "Warning message in eval(expr, envir, enclos):\n",
      "\"NAs introduced by coercion\""
     ]
    },
    {
     "data": {
      "text/html": [
       "&lt;NA&gt;"
      ],
      "text/latex": [
       "<NA>"
      ],
      "text/markdown": [
       "&lt;NA&gt;"
      ],
      "text/plain": [
       "[1] NA"
      ]
     },
     "metadata": {},
     "output_type": "display_data"
    }
   ],
   "source": [
    "as.integer(c('apple'))"
   ]
  },
  {
   "cell_type": "code",
   "execution_count": 43,
   "id": "arbitrary-bosnia",
   "metadata": {},
   "outputs": [
    {
     "data": {
      "text/html": [
       "'character'"
      ],
      "text/latex": [
       "'character'"
      ],
      "text/markdown": [
       "'character'"
      ],
      "text/plain": [
       "[1] \"character\""
      ]
     },
     "metadata": {},
     "output_type": "display_data"
    }
   ],
   "source": [
    "typeof('apple')"
   ]
  },
  {
   "cell_type": "code",
   "execution_count": 47,
   "id": "portable-essence",
   "metadata": {},
   "outputs": [
    {
     "name": "stdout",
     "output_type": "stream",
     "text": [
      "[1] \"character\"\n",
      "[1] \"L9T\"\n",
      "[1] \"\"\n",
      "[1] \"character\"\n",
      "[1] \"L9T0J7\"\n",
      "[1] \"\"\n",
      "[1] \"integer\"\n",
      "[1] 2\n",
      "[1] \"\"\n",
      "[1] \"character\"\n",
      "[1] \"L9T\"\n",
      "[1] \"\"\n",
      "[1] \"character\"\n",
      "[1] \"ON\"\n",
      "[1] \"\"\n",
      "[1] \"integer\"\n",
      "[1] 7\n",
      "[1] \"\"\n",
      "[1] \"integer\"\n",
      "[1] 118\n",
      "[1] \"\"\n",
      "[1] \"integer\"\n",
      "[1] 112\n",
      "[1] \"\"\n",
      "[1] \"integer\"\n",
      "[1] 232\n"
     ]
    }
   ],
   "source": [
    "{\n",
    "  print(class(postalCode))\n",
    "  print(substr(postalCode, 1, 3))\n",
    "  print('')\n",
    "  obs = data.frame('postalCode' = c(postalCode),\n",
    "                   'propertyStyle' = as.integer(c(propertyStyle)),\n",
    "                   'fsa' = c(fsa),\n",
    "                   'province' = c(province),\n",
    "                   'propertyAge' = as.integer(c(propertyAge)),\n",
    "                   'sizeBuild' = as.integer(c(sizeBuild)),\n",
    "                   'sizeLot' = as.integer(c(sizeLot)),\n",
    "                   'propertyTax' = as.integer(c(propertyTax))\n",
    "                   ,  stringsAsFactors = FALSE\n",
    "                 )\n",
    "  print(class(obs$postalCode))\n",
    "  print(obs$postalCode)\n",
    "  print('')\n",
    "  print(typeof(obs$propertyStyle))\n",
    "  print(obs$propertyStyle)\n",
    "  print('')\n",
    "  print(typeof(obs$fsa))\n",
    "  print(obs$fsa)\n",
    "  print('')\n",
    "  print(typeof(obs$province))\n",
    "  print(obs$province)\n",
    "  print('')\n",
    "  print(typeof(obs$propertyAge))\n",
    "  print(obs$propertyAge)\n",
    "  print('')\n",
    "  print(typeof(obs$sizeBuild))\n",
    "  print(obs$sizeBuild)\n",
    "  print('')\n",
    "  print(typeof(obs$sizeLot))\n",
    "  print(obs$sizeLot)\n",
    "  print('')\n",
    "  print(typeof(obs$propertyTax))\n",
    "  print(obs$propertyTax)\n",
    "}"
   ]
  },
  {
   "cell_type": "code",
   "execution_count": 38,
   "id": "isolated-request",
   "metadata": {},
   "outputs": [
    {
     "name": "stdout",
     "output_type": "stream",
     "text": [
      "[1] \"character\"\n",
      "[1] \"L9T0J7\"\n",
      "[1] \"\"\n",
      "[1] \"integer\"\n",
      "[1] 2\n",
      "[1] \"\"\n",
      "[1] \"character\"\n",
      "[1] \"L9T\"\n",
      "[1] \"\"\n",
      "[1] \"character\"\n",
      "[1] \"ON\"\n",
      "[1] \"\"\n",
      "[1] \"integer\"\n",
      "[1] 7\n",
      "[1] \"\"\n",
      "[1] \"integer\"\n",
      "[1] 118\n",
      "[1] \"\"\n",
      "[1] \"integer\"\n",
      "[1] 112\n",
      "[1] \"\"\n",
      "[1] \"integer\"\n",
      "[1] 232\n",
      "[1] 1\n",
      "[1] 2\n",
      "[1] 3\n",
      "[1] 7\n",
      "[1] 8\n",
      "[1] 4\n",
      "  postalCode propertyStyle fsa province propertyAge sizeBuild sizeLot\n",
      "1     L9T0J7             2 L9T       ON           7       118     112\n",
      "  propertyTax\n",
      "1         232\n",
      "   creaHPI\n",
      "1:  795400\n",
      "       gdp   mr policyrate\n",
      "1: 1920056 4.79       0.25\n",
      "   ueR        ueS  cpiR       cpiS\n",
      "1: 9.9 0.09326196 138.9 0.08636364\n",
      "   Min_LowerBound LowerBound ValueEstimate UpperBound Max_UpperBound Avg_BED\n",
      "1:         617250   619174.6      786289.1   786289.1       786289.1       3\n",
      "   Avg_BATH Avg_LIVING_AREA Avg_LOTSIZE Avg_YEARBUILT Prox_Accommodation_Score\n",
      "1:        2        1601.286    1423.667      2016.429                   9.3211\n",
      "   Prox_Airports_Score Prox_Cinemas_Score Prox_Education_Score\n",
      "1:            2.864297           5.609771             2.409536\n",
      "   Prox_Financial_Score Prox_Health_Score Prox_Water_Score Prox_Golf_Score\n",
      "1:             3.792354          4.359698        0.7877714        1.800828\n",
      "   Prox_ShoppingCentre_Score Prox_Stadium_Score Prox_Commerical_Score\n",
      "1:                  2.443364           1.973386              1.394918\n",
      "   Homogeneity Resilience_Score\n",
      "1:   0.6454983         0.923255\n",
      "   Age0_14.prop Age15_24.prop Age25_44.prop Age45_64.prop Age65_More.prop\n",
      "1:    0.2776239     0.1375038     0.3473027     0.1877361       0.0498545\n",
      "   PP_PP_AVG PP_PP_MED TotalPopLegalAgeMarry.prop MarridCommon.prop\n",
      "1:    31.305    32.857                  0.7223761         0.6913565\n",
      "   Married.prop Common.prop SingleDivorce.prop Single.prop Separated.prop\n",
      "1:    0.8495553   0.1504447          0.3086435   0.7142723      0.1020299\n",
      "   Divorced.prop Widow.prop TotalFamily_PerHH\n",
      "1:     0.1224547 0.06121168            41.021\n",
      "   TotalFamily_MarriedCommon_PerHH.prop\n",
      "1:                            0.8593891\n",
      "   TotalFamily_MarriedCommon_WChild_PerHH.prop TotalFamily_SinglePar_PerHH.prop\n",
      "1:                                    1.116161                        0.1406353\n",
      "   AveNumberOfPerson_PerHH AveNumberOfChildren_PerHH TotalPersons_PerHH\n",
      "1:                   3.277                     1.358             142.37\n",
      "   TotalChildren_PerHH TotalSingleFamilyHHType.prop TotalMultiFamilyHHType.prop\n",
      "1:              55.691                     0.815927                   0.0521353\n",
      "   TotalNonFamilyHHType.prop TotalOwnOccHH.prop PerOwnOccHH_WMort.prop\n",
      "1:                 0.1319376          0.8732425                  0.937\n",
      "   TotalRentOccHH.prop TotalSingleDwelling TotalApartmentDwelling\n",
      "1:           0.1267575               10.62                      0\n",
      "   TotalSemiDwelling TotalRowDwelling TotalDuplDwelling DwellingAveValue\n",
      "1:             4.811            26.46                 0         667264.6\n",
      "   DwellingMedianValue DwellingMinValue DwellingMaxValue DwellingOwned\n",
      "1:            623525.2         579785.8         738016.5        36.581\n",
      "   DwellingRented TotalMedCostDwelling TotalAvgCostDwelling TotalNoEd.prop\n",
      "1:           5.31             1938.239             1948.943     0.09316536\n",
      "   TotalMinEd.prop TotalTradeEd.prop TotalColEd.prop TotalUniEd.prop\n",
      "1:       0.2484506        0.02484797       0.2173955       0.4161502\n",
      "   TotalParticipation.prop TotalUnemploy.prop TotalSelfEmploy.prop\n",
      "1:                  0.7297         0.08822358            0.1101658\n",
      "   TotalWorkAtOffice.prop TotalNoPublicTransitCommute.prop Below30Commute.prop\n",
      "1:              0.8035717                        0.9199885           0.3861454\n",
      "   MedianHHIncome AvgHHIncome   Mg.prop   Bs.prop   Sc.prop    Hl.prop\n",
      "1:       111731.9    125097.9 0.1911587 0.2343879 0.1077565 0.04562476\n",
      "    SSc.prop   Art.prop  Sal.prop    Tr.prop Un.prop Unpmu.prop\n",
      "1: 0.1180819 0.01368467 0.1990473 0.07669751       0 0.01356077\n",
      "[1] 78\n",
      "[1] 5\n"
     ]
    },
    {
     "name": "stderr",
     "output_type": "stream",
     "text": [
      "Using 15000 trees...\n",
      "\n"
     ]
    },
    {
     "data": {
      "text/html": [
       "671359"
      ],
      "text/latex": [
       "671359"
      ],
      "text/markdown": [
       "671359"
      ],
      "text/plain": [
       "[1] 671359"
      ]
     },
     "metadata": {},
     "output_type": "display_data"
    }
   ],
   "source": [
    "{\n",
    "  obs = data.frame('postalCode' = c(postalCode),\n",
    "                   'propertyStyle' = as.integer(c(propertyStyle)),\n",
    "                   'fsa' = c(fsa),\n",
    "                   'province' = c(province),\n",
    "                   'propertyAge' = as.integer(c(propertyAge)),\n",
    "                   'sizeBuild' = as.integer(c(sizeBuild)),\n",
    "                   'sizeLot' = as.integer(c(sizeLot)),\n",
    "                   'propertyTax' = as.integer(c(propertyTax))\n",
    "                   ,  stringsAsFactors = FALSE\n",
    "                 )\n",
    "  print(class(obs$postalCode))\n",
    "  print(obs$postalCode)\n",
    "  print('')\n",
    "  print(typeof(obs$propertyStyle))\n",
    "  print(obs$propertyStyle)\n",
    "  print('')\n",
    "  print(typeof(obs$fsa))\n",
    "  print(obs$fsa)\n",
    "  print('')\n",
    "  print(typeof(obs$province))\n",
    "  print(obs$province)\n",
    "  print('')\n",
    "  print(typeof(obs$propertyAge))\n",
    "  print(obs$propertyAge)\n",
    "  print('')\n",
    "  print(typeof(obs$sizeBuild))\n",
    "  print(obs$sizeBuild)\n",
    "  print('')\n",
    "  print(typeof(obs$sizeLot))\n",
    "  print(obs$sizeLot)\n",
    "  print('')\n",
    "  print(typeof(obs$propertyTax))\n",
    "  print(obs$propertyTax)\n",
    "  \n",
    "  print(1)\n",
    "  fullManifold = readRDS(\"fullManifold2020.RDS\")\n",
    "  manifold = fullManifold[postalCode==obs$postalCode,][.N,-c(1,2,69)] \n",
    "  print(2)\n",
    "  fullRPS = readRDS(\"fullRPS2020.RDS\")\n",
    "  rps = fullRPS[postalCode==obs$postalCode & propertyStyle==obs$propertyStyle,][.N,-c(1,2,26,27)] \n",
    "\n",
    "  lookupCREA = readRDS(\"cleanCREALookup2020.RDS\")\n",
    "  crea = readRDS(\"cleanCREAData2020.RDS\")\n",
    "  lookup = lookupCREA[FSALDU==obs$postalCode][.N,c(6)]\n",
    "  creaHPI = crea[lookup$CREA_Region==CREA_Region][.N,c(4)]\n",
    "  print(3)\n",
    "  econNat = readRDS(\"cleanEconomic2020National.RDS\")\n",
    "  econProv = readRDS(\"cleanEconomic2020Province.RDS\")\n",
    "  print(7)\n",
    "  econNational = econNat[.N,c(2:4)]\n",
    "  print(8)\n",
    "  econProvincial = econProv[Region==obs$province][.N,3:6]\n",
    "  print(4)\n",
    "  print(obs)\n",
    "  print(creaHPI)\n",
    "  print(econNational)\n",
    "  print(econProvincial)\n",
    "  print(rps)\n",
    "  print(manifold)\n",
    "  obs = cbind(obs,creaHPI,econNational,econProvincial,rps,manifold)\n",
    "  print(78)\n",
    "  obs = obs[,-c(1,3:4)]\n",
    "  print(5)\n",
    "  return(ceiling(exp(predict.gbm(mON,obs)))) \n",
    "} "
   ]
  },
  {
   "cell_type": "code",
   "execution_count": 21,
   "id": "moving-clause",
   "metadata": {},
   "outputs": [],
   "source": [
    "fullRPS = readRDS(\"fullRPS2020.RDS\")"
   ]
  },
  {
   "cell_type": "code",
   "execution_count": 25,
   "id": "divine-sudan",
   "metadata": {},
   "outputs": [
    {
     "data": {
      "text/html": [
       "<table>\n",
       "<thead><tr><th scope=col>postalCode</th><th scope=col>dateYYYYMM</th><th scope=col>Min_LowerBound</th><th scope=col>LowerBound</th><th scope=col>ValueEstimate</th><th scope=col>UpperBound</th><th scope=col>Max_UpperBound</th><th scope=col>Avg_BED</th><th scope=col>Avg_BATH</th><th scope=col>Avg_LIVING_AREA</th><th scope=col>...</th><th scope=col>Prox_Health_Score</th><th scope=col>Prox_Water_Score</th><th scope=col>Prox_Golf_Score</th><th scope=col>Prox_ShoppingCentre_Score</th><th scope=col>Prox_Stadium_Score</th><th scope=col>Prox_Commerical_Score</th><th scope=col>Homogeneity</th><th scope=col>Resilience_Score</th><th scope=col>propertyStyle</th><th scope=col>fsa</th></tr></thead>\n",
       "<tbody>\n",
       "\t<tr><td>A1E2E2   </td><td>202001   </td><td>166912.3 </td><td>166912.3 </td><td>336371.3 </td><td>513077.4 </td><td>513077.4 </td><td>3.375    </td><td>1.875    </td><td>1474.625 </td><td>...      </td><td>2.467174 </td><td>0.4512484</td><td>5.791768 </td><td>1.873203 </td><td>75       </td><td>0.3950187</td><td>0.5396255</td><td>0.4057097</td><td>4        </td><td>A1E      </td></tr>\n",
       "\t<tr><td>A1E3Z8   </td><td>202001   </td><td>166912.3 </td><td>166912.3 </td><td>336371.3 </td><td>513077.4 </td><td>513077.4 </td><td>3.375    </td><td>1.875    </td><td>1474.625 </td><td>...      </td><td>2.467174 </td><td>0.4512484</td><td>5.791768 </td><td>1.873203 </td><td>75       </td><td>0.3950187</td><td>0.5396255</td><td>0.4057097</td><td>4        </td><td>A1E      </td></tr>\n",
       "\t<tr><td>A1E4A1   </td><td>202001   </td><td>166912.3 </td><td>166912.3 </td><td>336371.3 </td><td>513077.4 </td><td>513077.4 </td><td>3.375    </td><td>1.875    </td><td>1474.625 </td><td>...      </td><td>2.467174 </td><td>0.4512484</td><td>5.791768 </td><td>1.873203 </td><td>75       </td><td>0.3950187</td><td>0.5396255</td><td>0.4057097</td><td>4        </td><td>A1E      </td></tr>\n",
       "\t<tr><td>A1E4A5   </td><td>202001   </td><td>166912.3 </td><td>166912.3 </td><td>336371.3 </td><td>513077.4 </td><td>513077.4 </td><td>3.375    </td><td>1.875    </td><td>1474.625 </td><td>...      </td><td>2.467174 </td><td>0.4512484</td><td>5.791768 </td><td>1.873203 </td><td>75       </td><td>0.3950187</td><td>0.5396255</td><td>0.4057097</td><td>4        </td><td>A1E      </td></tr>\n",
       "\t<tr><td>A1E4A6   </td><td>202001   </td><td>166912.3 </td><td>166912.3 </td><td>336371.3 </td><td>513077.4 </td><td>513077.4 </td><td>3.375    </td><td>1.875    </td><td>1474.625 </td><td>...      </td><td>2.467174 </td><td>0.4512484</td><td>5.791768 </td><td>1.873203 </td><td>75       </td><td>0.3950187</td><td>0.5396255</td><td>0.4057097</td><td>4        </td><td>A1E      </td></tr>\n",
       "\t<tr><td>A1E4P9   </td><td>202001   </td><td>166912.3 </td><td>166912.3 </td><td>336371.3 </td><td>513077.4 </td><td>513077.4 </td><td>3.375    </td><td>1.875    </td><td>1474.625 </td><td>...      </td><td>2.467174 </td><td>0.4512484</td><td>5.791768 </td><td>1.873203 </td><td>75       </td><td>0.3950187</td><td>0.5396255</td><td>0.4057097</td><td>4        </td><td>A1E      </td></tr>\n",
       "</tbody>\n",
       "</table>\n"
      ],
      "text/latex": [
       "\\begin{tabular}{r|lllllllllllllllllllllllllll}\n",
       " postalCode & dateYYYYMM & Min\\_LowerBound & LowerBound & ValueEstimate & UpperBound & Max\\_UpperBound & Avg\\_BED & Avg\\_BATH & Avg\\_LIVING\\_AREA & ... & Prox\\_Health\\_Score & Prox\\_Water\\_Score & Prox\\_Golf\\_Score & Prox\\_ShoppingCentre\\_Score & Prox\\_Stadium\\_Score & Prox\\_Commerical\\_Score & Homogeneity & Resilience\\_Score & propertyStyle & fsa\\\\\n",
       "\\hline\n",
       "\t A1E2E2    & 202001    & 166912.3  & 166912.3  & 336371.3  & 513077.4  & 513077.4  & 3.375     & 1.875     & 1474.625  & ...       & 2.467174  & 0.4512484 & 5.791768  & 1.873203  & 75        & 0.3950187 & 0.5396255 & 0.4057097 & 4         & A1E      \\\\\n",
       "\t A1E3Z8    & 202001    & 166912.3  & 166912.3  & 336371.3  & 513077.4  & 513077.4  & 3.375     & 1.875     & 1474.625  & ...       & 2.467174  & 0.4512484 & 5.791768  & 1.873203  & 75        & 0.3950187 & 0.5396255 & 0.4057097 & 4         & A1E      \\\\\n",
       "\t A1E4A1    & 202001    & 166912.3  & 166912.3  & 336371.3  & 513077.4  & 513077.4  & 3.375     & 1.875     & 1474.625  & ...       & 2.467174  & 0.4512484 & 5.791768  & 1.873203  & 75        & 0.3950187 & 0.5396255 & 0.4057097 & 4         & A1E      \\\\\n",
       "\t A1E4A5    & 202001    & 166912.3  & 166912.3  & 336371.3  & 513077.4  & 513077.4  & 3.375     & 1.875     & 1474.625  & ...       & 2.467174  & 0.4512484 & 5.791768  & 1.873203  & 75        & 0.3950187 & 0.5396255 & 0.4057097 & 4         & A1E      \\\\\n",
       "\t A1E4A6    & 202001    & 166912.3  & 166912.3  & 336371.3  & 513077.4  & 513077.4  & 3.375     & 1.875     & 1474.625  & ...       & 2.467174  & 0.4512484 & 5.791768  & 1.873203  & 75        & 0.3950187 & 0.5396255 & 0.4057097 & 4         & A1E      \\\\\n",
       "\t A1E4P9    & 202001    & 166912.3  & 166912.3  & 336371.3  & 513077.4  & 513077.4  & 3.375     & 1.875     & 1474.625  & ...       & 2.467174  & 0.4512484 & 5.791768  & 1.873203  & 75        & 0.3950187 & 0.5396255 & 0.4057097 & 4         & A1E      \\\\\n",
       "\\end{tabular}\n"
      ],
      "text/markdown": [
       "\n",
       "| postalCode | dateYYYYMM | Min_LowerBound | LowerBound | ValueEstimate | UpperBound | Max_UpperBound | Avg_BED | Avg_BATH | Avg_LIVING_AREA | ... | Prox_Health_Score | Prox_Water_Score | Prox_Golf_Score | Prox_ShoppingCentre_Score | Prox_Stadium_Score | Prox_Commerical_Score | Homogeneity | Resilience_Score | propertyStyle | fsa |\n",
       "|---|---|---|---|---|---|---|---|---|---|---|---|---|---|---|---|---|---|---|---|---|\n",
       "| A1E2E2    | 202001    | 166912.3  | 166912.3  | 336371.3  | 513077.4  | 513077.4  | 3.375     | 1.875     | 1474.625  | ...       | 2.467174  | 0.4512484 | 5.791768  | 1.873203  | 75        | 0.3950187 | 0.5396255 | 0.4057097 | 4         | A1E       |\n",
       "| A1E3Z8    | 202001    | 166912.3  | 166912.3  | 336371.3  | 513077.4  | 513077.4  | 3.375     | 1.875     | 1474.625  | ...       | 2.467174  | 0.4512484 | 5.791768  | 1.873203  | 75        | 0.3950187 | 0.5396255 | 0.4057097 | 4         | A1E       |\n",
       "| A1E4A1    | 202001    | 166912.3  | 166912.3  | 336371.3  | 513077.4  | 513077.4  | 3.375     | 1.875     | 1474.625  | ...       | 2.467174  | 0.4512484 | 5.791768  | 1.873203  | 75        | 0.3950187 | 0.5396255 | 0.4057097 | 4         | A1E       |\n",
       "| A1E4A5    | 202001    | 166912.3  | 166912.3  | 336371.3  | 513077.4  | 513077.4  | 3.375     | 1.875     | 1474.625  | ...       | 2.467174  | 0.4512484 | 5.791768  | 1.873203  | 75        | 0.3950187 | 0.5396255 | 0.4057097 | 4         | A1E       |\n",
       "| A1E4A6    | 202001    | 166912.3  | 166912.3  | 336371.3  | 513077.4  | 513077.4  | 3.375     | 1.875     | 1474.625  | ...       | 2.467174  | 0.4512484 | 5.791768  | 1.873203  | 75        | 0.3950187 | 0.5396255 | 0.4057097 | 4         | A1E       |\n",
       "| A1E4P9    | 202001    | 166912.3  | 166912.3  | 336371.3  | 513077.4  | 513077.4  | 3.375     | 1.875     | 1474.625  | ...       | 2.467174  | 0.4512484 | 5.791768  | 1.873203  | 75        | 0.3950187 | 0.5396255 | 0.4057097 | 4         | A1E       |\n",
       "\n"
      ],
      "text/plain": [
       "  postalCode dateYYYYMM Min_LowerBound LowerBound ValueEstimate UpperBound\n",
       "1 A1E2E2     202001     166912.3       166912.3   336371.3      513077.4  \n",
       "2 A1E3Z8     202001     166912.3       166912.3   336371.3      513077.4  \n",
       "3 A1E4A1     202001     166912.3       166912.3   336371.3      513077.4  \n",
       "4 A1E4A5     202001     166912.3       166912.3   336371.3      513077.4  \n",
       "5 A1E4A6     202001     166912.3       166912.3   336371.3      513077.4  \n",
       "6 A1E4P9     202001     166912.3       166912.3   336371.3      513077.4  \n",
       "  Max_UpperBound Avg_BED Avg_BATH Avg_LIVING_AREA ... Prox_Health_Score\n",
       "1 513077.4       3.375   1.875    1474.625        ... 2.467174         \n",
       "2 513077.4       3.375   1.875    1474.625        ... 2.467174         \n",
       "3 513077.4       3.375   1.875    1474.625        ... 2.467174         \n",
       "4 513077.4       3.375   1.875    1474.625        ... 2.467174         \n",
       "5 513077.4       3.375   1.875    1474.625        ... 2.467174         \n",
       "6 513077.4       3.375   1.875    1474.625        ... 2.467174         \n",
       "  Prox_Water_Score Prox_Golf_Score Prox_ShoppingCentre_Score Prox_Stadium_Score\n",
       "1 0.4512484        5.791768        1.873203                  75                \n",
       "2 0.4512484        5.791768        1.873203                  75                \n",
       "3 0.4512484        5.791768        1.873203                  75                \n",
       "4 0.4512484        5.791768        1.873203                  75                \n",
       "5 0.4512484        5.791768        1.873203                  75                \n",
       "6 0.4512484        5.791768        1.873203                  75                \n",
       "  Prox_Commerical_Score Homogeneity Resilience_Score propertyStyle fsa\n",
       "1 0.3950187             0.5396255   0.4057097        4             A1E\n",
       "2 0.3950187             0.5396255   0.4057097        4             A1E\n",
       "3 0.3950187             0.5396255   0.4057097        4             A1E\n",
       "4 0.3950187             0.5396255   0.4057097        4             A1E\n",
       "5 0.3950187             0.5396255   0.4057097        4             A1E\n",
       "6 0.3950187             0.5396255   0.4057097        4             A1E"
      ]
     },
     "metadata": {},
     "output_type": "display_data"
    }
   ],
   "source": [
    "head(fullRPS)"
   ]
  },
  {
   "cell_type": "code",
   "execution_count": 22,
   "id": "dental-morrison",
   "metadata": {},
   "outputs": [
    {
     "data": {
      "text/html": [
       "'list'"
      ],
      "text/latex": [
       "'list'"
      ],
      "text/markdown": [
       "'list'"
      ],
      "text/plain": [
       "[1] \"list\""
      ]
     },
     "metadata": {},
     "output_type": "display_data"
    }
   ],
   "source": [
    "typeof(fullRPS)"
   ]
  },
  {
   "cell_type": "code",
   "execution_count": 30,
   "id": "later-singing",
   "metadata": {},
   "outputs": [
    {
     "data": {
      "text/html": [
       "TRUE"
      ],
      "text/latex": [
       "TRUE"
      ],
      "text/markdown": [
       "TRUE"
      ],
      "text/plain": [
       "[1] TRUE"
      ]
     },
     "metadata": {},
     "output_type": "display_data"
    }
   ],
   "source": [
    "is.data.frame(fullRPS)"
   ]
  },
  {
   "cell_type": "code",
   "execution_count": 27,
   "id": "declared-reach",
   "metadata": {},
   "outputs": [
    {
     "data": {
      "text/html": [
       "<ol class=list-inline>\n",
       "\t<li>'data.table'</li>\n",
       "\t<li>'data.frame'</li>\n",
       "</ol>\n"
      ],
      "text/latex": [
       "\\begin{enumerate*}\n",
       "\\item 'data.table'\n",
       "\\item 'data.frame'\n",
       "\\end{enumerate*}\n"
      ],
      "text/markdown": [
       "1. 'data.table'\n",
       "2. 'data.frame'\n",
       "\n",
       "\n"
      ],
      "text/plain": [
       "[1] \"data.table\" \"data.frame\""
      ]
     },
     "metadata": {},
     "output_type": "display_data"
    }
   ],
   "source": [
    "class(fullRPS)"
   ]
  },
  {
   "cell_type": "code",
   "execution_count": 5,
   "id": "united-shipping",
   "metadata": {},
   "outputs": [
    {
     "data": {
      "text/html": [
       "<ol class=list-inline>\n",
       "\t<li>'propertyStyle'</li>\n",
       "\t<li>'propertyAge'</li>\n",
       "\t<li>'sizeBuild'</li>\n",
       "\t<li>'sizeLot'</li>\n",
       "\t<li>'propertyTax'</li>\n",
       "\t<li>'creaHPI'</li>\n",
       "\t<li>'gdp'</li>\n",
       "\t<li>'mr'</li>\n",
       "\t<li>'policyrate'</li>\n",
       "\t<li>'ueR'</li>\n",
       "\t<li>'ueS'</li>\n",
       "\t<li>'cpiR'</li>\n",
       "\t<li>'cpiS'</li>\n",
       "\t<li>'Min_LowerBound'</li>\n",
       "\t<li>'LowerBound'</li>\n",
       "\t<li>'ValueEstimate'</li>\n",
       "\t<li>'UpperBound'</li>\n",
       "\t<li>'Max_UpperBound'</li>\n",
       "\t<li>'Avg_BED'</li>\n",
       "\t<li>'Avg_BATH'</li>\n",
       "\t<li>'Avg_LIVING_AREA'</li>\n",
       "\t<li>'Avg_LOTSIZE'</li>\n",
       "\t<li>'Avg_YEARBUILT'</li>\n",
       "\t<li>'Prox_Accommodation_Score'</li>\n",
       "\t<li>'Prox_Airports_Score'</li>\n",
       "\t<li>'Prox_Cinemas_Score'</li>\n",
       "\t<li>'Prox_Education_Score'</li>\n",
       "\t<li>'Prox_Financial_Score'</li>\n",
       "\t<li>'Prox_Health_Score'</li>\n",
       "\t<li>'Prox_Water_Score'</li>\n",
       "\t<li>'Prox_Golf_Score'</li>\n",
       "\t<li>'Prox_ShoppingCentre_Score'</li>\n",
       "\t<li>'Prox_Stadium_Score'</li>\n",
       "\t<li>'Prox_Commerical_Score'</li>\n",
       "\t<li>'Homogeneity'</li>\n",
       "\t<li>'Resilience_Score'</li>\n",
       "\t<li>'Age0_14.prop'</li>\n",
       "\t<li>'Age15_24.prop'</li>\n",
       "\t<li>'Age25_44.prop'</li>\n",
       "\t<li>'Age45_64.prop'</li>\n",
       "\t<li>'Age65_More.prop'</li>\n",
       "\t<li>'PP_PP_AVG'</li>\n",
       "\t<li>'PP_PP_MED'</li>\n",
       "\t<li>'TotalPopLegalAgeMarry.prop'</li>\n",
       "\t<li>'MarridCommon.prop'</li>\n",
       "\t<li>'Married.prop'</li>\n",
       "\t<li>'Common.prop'</li>\n",
       "\t<li>'SingleDivorce.prop'</li>\n",
       "\t<li>'Single.prop'</li>\n",
       "\t<li>'Separated.prop'</li>\n",
       "\t<li>'Divorced.prop'</li>\n",
       "\t<li>'Widow.prop'</li>\n",
       "\t<li>'TotalFamily_PerHH'</li>\n",
       "\t<li>'TotalFamily_MarriedCommon_PerHH.prop'</li>\n",
       "\t<li>'TotalFamily_MarriedCommon_WChild_PerHH.prop'</li>\n",
       "\t<li>'TotalFamily_SinglePar_PerHH.prop'</li>\n",
       "\t<li>'AveNumberOfPerson_PerHH'</li>\n",
       "\t<li>'AveNumberOfChildren_PerHH'</li>\n",
       "\t<li>'TotalPersons_PerHH'</li>\n",
       "\t<li>'TotalChildren_PerHH'</li>\n",
       "\t<li>'TotalSingleFamilyHHType.prop'</li>\n",
       "\t<li>'TotalMultiFamilyHHType.prop'</li>\n",
       "\t<li>'TotalNonFamilyHHType.prop'</li>\n",
       "\t<li>'TotalOwnOccHH.prop'</li>\n",
       "\t<li>'PerOwnOccHH_WMort.prop'</li>\n",
       "\t<li>'TotalRentOccHH.prop'</li>\n",
       "\t<li>'TotalSingleDwelling'</li>\n",
       "\t<li>'TotalApartmentDwelling'</li>\n",
       "\t<li>'TotalSemiDwelling'</li>\n",
       "\t<li>'TotalRowDwelling'</li>\n",
       "\t<li>'TotalDuplDwelling'</li>\n",
       "\t<li>'DwellingAveValue'</li>\n",
       "\t<li>'DwellingMedianValue'</li>\n",
       "\t<li>'DwellingMinValue'</li>\n",
       "\t<li>'DwellingMaxValue'</li>\n",
       "\t<li>'DwellingOwned'</li>\n",
       "\t<li>'DwellingRented'</li>\n",
       "\t<li>'TotalMedCostDwelling'</li>\n",
       "\t<li>'TotalAvgCostDwelling'</li>\n",
       "\t<li>'TotalNoEd.prop'</li>\n",
       "\t<li>'TotalMinEd.prop'</li>\n",
       "\t<li>'TotalTradeEd.prop'</li>\n",
       "\t<li>'TotalColEd.prop'</li>\n",
       "\t<li>'TotalUniEd.prop'</li>\n",
       "\t<li>'TotalParticipation.prop'</li>\n",
       "\t<li>'TotalUnemploy.prop'</li>\n",
       "\t<li>'TotalSelfEmploy.prop'</li>\n",
       "\t<li>'TotalWorkAtOffice.prop'</li>\n",
       "\t<li>'TotalNoPublicTransitCommute.prop'</li>\n",
       "\t<li>'Below30Commute.prop'</li>\n",
       "\t<li>'MedianHHIncome'</li>\n",
       "\t<li>'AvgHHIncome'</li>\n",
       "\t<li>'Mg.prop'</li>\n",
       "\t<li>'Bs.prop'</li>\n",
       "\t<li>'Sc.prop'</li>\n",
       "\t<li>'Hl.prop'</li>\n",
       "\t<li>'SSc.prop'</li>\n",
       "\t<li>'Art.prop'</li>\n",
       "\t<li>'Sal.prop'</li>\n",
       "\t<li>'Tr.prop'</li>\n",
       "\t<li>'Un.prop'</li>\n",
       "\t<li>'Unpmu.prop'</li>\n",
       "</ol>\n"
      ],
      "text/latex": [
       "\\begin{enumerate*}\n",
       "\\item 'propertyStyle'\n",
       "\\item 'propertyAge'\n",
       "\\item 'sizeBuild'\n",
       "\\item 'sizeLot'\n",
       "\\item 'propertyTax'\n",
       "\\item 'creaHPI'\n",
       "\\item 'gdp'\n",
       "\\item 'mr'\n",
       "\\item 'policyrate'\n",
       "\\item 'ueR'\n",
       "\\item 'ueS'\n",
       "\\item 'cpiR'\n",
       "\\item 'cpiS'\n",
       "\\item 'Min\\_LowerBound'\n",
       "\\item 'LowerBound'\n",
       "\\item 'ValueEstimate'\n",
       "\\item 'UpperBound'\n",
       "\\item 'Max\\_UpperBound'\n",
       "\\item 'Avg\\_BED'\n",
       "\\item 'Avg\\_BATH'\n",
       "\\item 'Avg\\_LIVING\\_AREA'\n",
       "\\item 'Avg\\_LOTSIZE'\n",
       "\\item 'Avg\\_YEARBUILT'\n",
       "\\item 'Prox\\_Accommodation\\_Score'\n",
       "\\item 'Prox\\_Airports\\_Score'\n",
       "\\item 'Prox\\_Cinemas\\_Score'\n",
       "\\item 'Prox\\_Education\\_Score'\n",
       "\\item 'Prox\\_Financial\\_Score'\n",
       "\\item 'Prox\\_Health\\_Score'\n",
       "\\item 'Prox\\_Water\\_Score'\n",
       "\\item 'Prox\\_Golf\\_Score'\n",
       "\\item 'Prox\\_ShoppingCentre\\_Score'\n",
       "\\item 'Prox\\_Stadium\\_Score'\n",
       "\\item 'Prox\\_Commerical\\_Score'\n",
       "\\item 'Homogeneity'\n",
       "\\item 'Resilience\\_Score'\n",
       "\\item 'Age0\\_14.prop'\n",
       "\\item 'Age15\\_24.prop'\n",
       "\\item 'Age25\\_44.prop'\n",
       "\\item 'Age45\\_64.prop'\n",
       "\\item 'Age65\\_More.prop'\n",
       "\\item 'PP\\_PP\\_AVG'\n",
       "\\item 'PP\\_PP\\_MED'\n",
       "\\item 'TotalPopLegalAgeMarry.prop'\n",
       "\\item 'MarridCommon.prop'\n",
       "\\item 'Married.prop'\n",
       "\\item 'Common.prop'\n",
       "\\item 'SingleDivorce.prop'\n",
       "\\item 'Single.prop'\n",
       "\\item 'Separated.prop'\n",
       "\\item 'Divorced.prop'\n",
       "\\item 'Widow.prop'\n",
       "\\item 'TotalFamily\\_PerHH'\n",
       "\\item 'TotalFamily\\_MarriedCommon\\_PerHH.prop'\n",
       "\\item 'TotalFamily\\_MarriedCommon\\_WChild\\_PerHH.prop'\n",
       "\\item 'TotalFamily\\_SinglePar\\_PerHH.prop'\n",
       "\\item 'AveNumberOfPerson\\_PerHH'\n",
       "\\item 'AveNumberOfChildren\\_PerHH'\n",
       "\\item 'TotalPersons\\_PerHH'\n",
       "\\item 'TotalChildren\\_PerHH'\n",
       "\\item 'TotalSingleFamilyHHType.prop'\n",
       "\\item 'TotalMultiFamilyHHType.prop'\n",
       "\\item 'TotalNonFamilyHHType.prop'\n",
       "\\item 'TotalOwnOccHH.prop'\n",
       "\\item 'PerOwnOccHH\\_WMort.prop'\n",
       "\\item 'TotalRentOccHH.prop'\n",
       "\\item 'TotalSingleDwelling'\n",
       "\\item 'TotalApartmentDwelling'\n",
       "\\item 'TotalSemiDwelling'\n",
       "\\item 'TotalRowDwelling'\n",
       "\\item 'TotalDuplDwelling'\n",
       "\\item 'DwellingAveValue'\n",
       "\\item 'DwellingMedianValue'\n",
       "\\item 'DwellingMinValue'\n",
       "\\item 'DwellingMaxValue'\n",
       "\\item 'DwellingOwned'\n",
       "\\item 'DwellingRented'\n",
       "\\item 'TotalMedCostDwelling'\n",
       "\\item 'TotalAvgCostDwelling'\n",
       "\\item 'TotalNoEd.prop'\n",
       "\\item 'TotalMinEd.prop'\n",
       "\\item 'TotalTradeEd.prop'\n",
       "\\item 'TotalColEd.prop'\n",
       "\\item 'TotalUniEd.prop'\n",
       "\\item 'TotalParticipation.prop'\n",
       "\\item 'TotalUnemploy.prop'\n",
       "\\item 'TotalSelfEmploy.prop'\n",
       "\\item 'TotalWorkAtOffice.prop'\n",
       "\\item 'TotalNoPublicTransitCommute.prop'\n",
       "\\item 'Below30Commute.prop'\n",
       "\\item 'MedianHHIncome'\n",
       "\\item 'AvgHHIncome'\n",
       "\\item 'Mg.prop'\n",
       "\\item 'Bs.prop'\n",
       "\\item 'Sc.prop'\n",
       "\\item 'Hl.prop'\n",
       "\\item 'SSc.prop'\n",
       "\\item 'Art.prop'\n",
       "\\item 'Sal.prop'\n",
       "\\item 'Tr.prop'\n",
       "\\item 'Un.prop'\n",
       "\\item 'Unpmu.prop'\n",
       "\\end{enumerate*}\n"
      ],
      "text/markdown": [
       "1. 'propertyStyle'\n",
       "2. 'propertyAge'\n",
       "3. 'sizeBuild'\n",
       "4. 'sizeLot'\n",
       "5. 'propertyTax'\n",
       "6. 'creaHPI'\n",
       "7. 'gdp'\n",
       "8. 'mr'\n",
       "9. 'policyrate'\n",
       "10. 'ueR'\n",
       "11. 'ueS'\n",
       "12. 'cpiR'\n",
       "13. 'cpiS'\n",
       "14. 'Min_LowerBound'\n",
       "15. 'LowerBound'\n",
       "16. 'ValueEstimate'\n",
       "17. 'UpperBound'\n",
       "18. 'Max_UpperBound'\n",
       "19. 'Avg_BED'\n",
       "20. 'Avg_BATH'\n",
       "21. 'Avg_LIVING_AREA'\n",
       "22. 'Avg_LOTSIZE'\n",
       "23. 'Avg_YEARBUILT'\n",
       "24. 'Prox_Accommodation_Score'\n",
       "25. 'Prox_Airports_Score'\n",
       "26. 'Prox_Cinemas_Score'\n",
       "27. 'Prox_Education_Score'\n",
       "28. 'Prox_Financial_Score'\n",
       "29. 'Prox_Health_Score'\n",
       "30. 'Prox_Water_Score'\n",
       "31. 'Prox_Golf_Score'\n",
       "32. 'Prox_ShoppingCentre_Score'\n",
       "33. 'Prox_Stadium_Score'\n",
       "34. 'Prox_Commerical_Score'\n",
       "35. 'Homogeneity'\n",
       "36. 'Resilience_Score'\n",
       "37. 'Age0_14.prop'\n",
       "38. 'Age15_24.prop'\n",
       "39. 'Age25_44.prop'\n",
       "40. 'Age45_64.prop'\n",
       "41. 'Age65_More.prop'\n",
       "42. 'PP_PP_AVG'\n",
       "43. 'PP_PP_MED'\n",
       "44. 'TotalPopLegalAgeMarry.prop'\n",
       "45. 'MarridCommon.prop'\n",
       "46. 'Married.prop'\n",
       "47. 'Common.prop'\n",
       "48. 'SingleDivorce.prop'\n",
       "49. 'Single.prop'\n",
       "50. 'Separated.prop'\n",
       "51. 'Divorced.prop'\n",
       "52. 'Widow.prop'\n",
       "53. 'TotalFamily_PerHH'\n",
       "54. 'TotalFamily_MarriedCommon_PerHH.prop'\n",
       "55. 'TotalFamily_MarriedCommon_WChild_PerHH.prop'\n",
       "56. 'TotalFamily_SinglePar_PerHH.prop'\n",
       "57. 'AveNumberOfPerson_PerHH'\n",
       "58. 'AveNumberOfChildren_PerHH'\n",
       "59. 'TotalPersons_PerHH'\n",
       "60. 'TotalChildren_PerHH'\n",
       "61. 'TotalSingleFamilyHHType.prop'\n",
       "62. 'TotalMultiFamilyHHType.prop'\n",
       "63. 'TotalNonFamilyHHType.prop'\n",
       "64. 'TotalOwnOccHH.prop'\n",
       "65. 'PerOwnOccHH_WMort.prop'\n",
       "66. 'TotalRentOccHH.prop'\n",
       "67. 'TotalSingleDwelling'\n",
       "68. 'TotalApartmentDwelling'\n",
       "69. 'TotalSemiDwelling'\n",
       "70. 'TotalRowDwelling'\n",
       "71. 'TotalDuplDwelling'\n",
       "72. 'DwellingAveValue'\n",
       "73. 'DwellingMedianValue'\n",
       "74. 'DwellingMinValue'\n",
       "75. 'DwellingMaxValue'\n",
       "76. 'DwellingOwned'\n",
       "77. 'DwellingRented'\n",
       "78. 'TotalMedCostDwelling'\n",
       "79. 'TotalAvgCostDwelling'\n",
       "80. 'TotalNoEd.prop'\n",
       "81. 'TotalMinEd.prop'\n",
       "82. 'TotalTradeEd.prop'\n",
       "83. 'TotalColEd.prop'\n",
       "84. 'TotalUniEd.prop'\n",
       "85. 'TotalParticipation.prop'\n",
       "86. 'TotalUnemploy.prop'\n",
       "87. 'TotalSelfEmploy.prop'\n",
       "88. 'TotalWorkAtOffice.prop'\n",
       "89. 'TotalNoPublicTransitCommute.prop'\n",
       "90. 'Below30Commute.prop'\n",
       "91. 'MedianHHIncome'\n",
       "92. 'AvgHHIncome'\n",
       "93. 'Mg.prop'\n",
       "94. 'Bs.prop'\n",
       "95. 'Sc.prop'\n",
       "96. 'Hl.prop'\n",
       "97. 'SSc.prop'\n",
       "98. 'Art.prop'\n",
       "99. 'Sal.prop'\n",
       "100. 'Tr.prop'\n",
       "101. 'Un.prop'\n",
       "102. 'Unpmu.prop'\n",
       "\n",
       "\n"
      ],
      "text/plain": [
       "  [1] \"propertyStyle\"                              \n",
       "  [2] \"propertyAge\"                                \n",
       "  [3] \"sizeBuild\"                                  \n",
       "  [4] \"sizeLot\"                                    \n",
       "  [5] \"propertyTax\"                                \n",
       "  [6] \"creaHPI\"                                    \n",
       "  [7] \"gdp\"                                        \n",
       "  [8] \"mr\"                                         \n",
       "  [9] \"policyrate\"                                 \n",
       " [10] \"ueR\"                                        \n",
       " [11] \"ueS\"                                        \n",
       " [12] \"cpiR\"                                       \n",
       " [13] \"cpiS\"                                       \n",
       " [14] \"Min_LowerBound\"                             \n",
       " [15] \"LowerBound\"                                 \n",
       " [16] \"ValueEstimate\"                              \n",
       " [17] \"UpperBound\"                                 \n",
       " [18] \"Max_UpperBound\"                             \n",
       " [19] \"Avg_BED\"                                    \n",
       " [20] \"Avg_BATH\"                                   \n",
       " [21] \"Avg_LIVING_AREA\"                            \n",
       " [22] \"Avg_LOTSIZE\"                                \n",
       " [23] \"Avg_YEARBUILT\"                              \n",
       " [24] \"Prox_Accommodation_Score\"                   \n",
       " [25] \"Prox_Airports_Score\"                        \n",
       " [26] \"Prox_Cinemas_Score\"                         \n",
       " [27] \"Prox_Education_Score\"                       \n",
       " [28] \"Prox_Financial_Score\"                       \n",
       " [29] \"Prox_Health_Score\"                          \n",
       " [30] \"Prox_Water_Score\"                           \n",
       " [31] \"Prox_Golf_Score\"                            \n",
       " [32] \"Prox_ShoppingCentre_Score\"                  \n",
       " [33] \"Prox_Stadium_Score\"                         \n",
       " [34] \"Prox_Commerical_Score\"                      \n",
       " [35] \"Homogeneity\"                                \n",
       " [36] \"Resilience_Score\"                           \n",
       " [37] \"Age0_14.prop\"                               \n",
       " [38] \"Age15_24.prop\"                              \n",
       " [39] \"Age25_44.prop\"                              \n",
       " [40] \"Age45_64.prop\"                              \n",
       " [41] \"Age65_More.prop\"                            \n",
       " [42] \"PP_PP_AVG\"                                  \n",
       " [43] \"PP_PP_MED\"                                  \n",
       " [44] \"TotalPopLegalAgeMarry.prop\"                 \n",
       " [45] \"MarridCommon.prop\"                          \n",
       " [46] \"Married.prop\"                               \n",
       " [47] \"Common.prop\"                                \n",
       " [48] \"SingleDivorce.prop\"                         \n",
       " [49] \"Single.prop\"                                \n",
       " [50] \"Separated.prop\"                             \n",
       " [51] \"Divorced.prop\"                              \n",
       " [52] \"Widow.prop\"                                 \n",
       " [53] \"TotalFamily_PerHH\"                          \n",
       " [54] \"TotalFamily_MarriedCommon_PerHH.prop\"       \n",
       " [55] \"TotalFamily_MarriedCommon_WChild_PerHH.prop\"\n",
       " [56] \"TotalFamily_SinglePar_PerHH.prop\"           \n",
       " [57] \"AveNumberOfPerson_PerHH\"                    \n",
       " [58] \"AveNumberOfChildren_PerHH\"                  \n",
       " [59] \"TotalPersons_PerHH\"                         \n",
       " [60] \"TotalChildren_PerHH\"                        \n",
       " [61] \"TotalSingleFamilyHHType.prop\"               \n",
       " [62] \"TotalMultiFamilyHHType.prop\"                \n",
       " [63] \"TotalNonFamilyHHType.prop\"                  \n",
       " [64] \"TotalOwnOccHH.prop\"                         \n",
       " [65] \"PerOwnOccHH_WMort.prop\"                     \n",
       " [66] \"TotalRentOccHH.prop\"                        \n",
       " [67] \"TotalSingleDwelling\"                        \n",
       " [68] \"TotalApartmentDwelling\"                     \n",
       " [69] \"TotalSemiDwelling\"                          \n",
       " [70] \"TotalRowDwelling\"                           \n",
       " [71] \"TotalDuplDwelling\"                          \n",
       " [72] \"DwellingAveValue\"                           \n",
       " [73] \"DwellingMedianValue\"                        \n",
       " [74] \"DwellingMinValue\"                           \n",
       " [75] \"DwellingMaxValue\"                           \n",
       " [76] \"DwellingOwned\"                              \n",
       " [77] \"DwellingRented\"                             \n",
       " [78] \"TotalMedCostDwelling\"                       \n",
       " [79] \"TotalAvgCostDwelling\"                       \n",
       " [80] \"TotalNoEd.prop\"                             \n",
       " [81] \"TotalMinEd.prop\"                            \n",
       " [82] \"TotalTradeEd.prop\"                          \n",
       " [83] \"TotalColEd.prop\"                            \n",
       " [84] \"TotalUniEd.prop\"                            \n",
       " [85] \"TotalParticipation.prop\"                    \n",
       " [86] \"TotalUnemploy.prop\"                         \n",
       " [87] \"TotalSelfEmploy.prop\"                       \n",
       " [88] \"TotalWorkAtOffice.prop\"                     \n",
       " [89] \"TotalNoPublicTransitCommute.prop\"           \n",
       " [90] \"Below30Commute.prop\"                        \n",
       " [91] \"MedianHHIncome\"                             \n",
       " [92] \"AvgHHIncome\"                                \n",
       " [93] \"Mg.prop\"                                    \n",
       " [94] \"Bs.prop\"                                    \n",
       " [95] \"Sc.prop\"                                    \n",
       " [96] \"Hl.prop\"                                    \n",
       " [97] \"SSc.prop\"                                   \n",
       " [98] \"Art.prop\"                                   \n",
       " [99] \"Sal.prop\"                                   \n",
       "[100] \"Tr.prop\"                                    \n",
       "[101] \"Un.prop\"                                    \n",
       "[102] \"Unpmu.prop\"                                 "
      ]
     },
     "metadata": {},
     "output_type": "display_data"
    }
   ],
   "source": [
    "colnames(obs)"
   ]
  },
  {
   "cell_type": "code",
   "execution_count": 5,
   "id": "grave-brazilian",
   "metadata": {},
   "outputs": [
    {
     "name": "stderr",
     "output_type": "stream",
     "text": [
      "Using 15000 trees...\n",
      "\n"
     ]
    },
    {
     "data": {
      "text/html": [
       "671391"
      ],
      "text/latex": [
       "671391"
      ],
      "text/markdown": [
       "671391"
      ],
      "text/plain": [
       "[1] 671391"
      ]
     },
     "metadata": {},
     "output_type": "display_data"
    }
   ],
   "source": [
    "ceiling(exp(predict.gbm(mON,obs)))"
   ]
  },
  {
   "cell_type": "code",
   "execution_count": 23,
   "id": "activated-canal",
   "metadata": {},
   "outputs": [],
   "source": [
    "obs = read.csv(\"testPropertyON.csv\"); obs = obs[,c(1:8)]"
   ]
  },
  {
   "cell_type": "code",
   "execution_count": 24,
   "id": "extended-destination",
   "metadata": {},
   "outputs": [
    {
     "data": {
      "text/html": [
       "'data.frame'"
      ],
      "text/latex": [
       "'data.frame'"
      ],
      "text/markdown": [
       "'data.frame'"
      ],
      "text/plain": [
       "[1] \"data.frame\""
      ]
     },
     "metadata": {},
     "output_type": "display_data"
    }
   ],
   "source": [
    "class(obs)"
   ]
  },
  {
   "cell_type": "code",
   "execution_count": 25,
   "id": "gentle-pixel",
   "metadata": {},
   "outputs": [
    {
     "data": {
      "text/html": [
       "<ol class=list-inline>\n",
       "\t<li>'postalCode'</li>\n",
       "\t<li>'propertyStyle'</li>\n",
       "\t<li>'fsa'</li>\n",
       "\t<li>'province'</li>\n",
       "\t<li>'propertyAge'</li>\n",
       "\t<li>'sizeBuild'</li>\n",
       "\t<li>'sizeLot'</li>\n",
       "\t<li>'propertyTax'</li>\n",
       "</ol>\n"
      ],
      "text/latex": [
       "\\begin{enumerate*}\n",
       "\\item 'postalCode'\n",
       "\\item 'propertyStyle'\n",
       "\\item 'fsa'\n",
       "\\item 'province'\n",
       "\\item 'propertyAge'\n",
       "\\item 'sizeBuild'\n",
       "\\item 'sizeLot'\n",
       "\\item 'propertyTax'\n",
       "\\end{enumerate*}\n"
      ],
      "text/markdown": [
       "1. 'postalCode'\n",
       "2. 'propertyStyle'\n",
       "3. 'fsa'\n",
       "4. 'province'\n",
       "5. 'propertyAge'\n",
       "6. 'sizeBuild'\n",
       "7. 'sizeLot'\n",
       "8. 'propertyTax'\n",
       "\n",
       "\n"
      ],
      "text/plain": [
       "[1] \"postalCode\"    \"propertyStyle\" \"fsa\"           \"province\"     \n",
       "[5] \"propertyAge\"   \"sizeBuild\"     \"sizeLot\"       \"propertyTax\"  "
      ]
     },
     "metadata": {},
     "output_type": "display_data"
    }
   ],
   "source": [
    "colnames(obs)"
   ]
  },
  {
   "cell_type": "code",
   "execution_count": 26,
   "id": "analyzed-explanation",
   "metadata": {},
   "outputs": [
    {
     "data": {
      "text/html": [
       "<table>\n",
       "<thead><tr><th scope=col>postalCode</th><th scope=col>propertyStyle</th><th scope=col>fsa</th><th scope=col>province</th><th scope=col>propertyAge</th><th scope=col>sizeBuild</th><th scope=col>sizeLot</th><th scope=col>propertyTax</th></tr></thead>\n",
       "<tbody>\n",
       "\t<tr><td>L9T0J7</td><td>2     </td><td>L9T   </td><td>ON    </td><td>7     </td><td>118   </td><td>172   </td><td>232   </td></tr>\n",
       "</tbody>\n",
       "</table>\n"
      ],
      "text/latex": [
       "\\begin{tabular}{r|llllllll}\n",
       " postalCode & propertyStyle & fsa & province & propertyAge & sizeBuild & sizeLot & propertyTax\\\\\n",
       "\\hline\n",
       "\t L9T0J7 & 2      & L9T    & ON     & 7      & 118    & 172    & 232   \\\\\n",
       "\\end{tabular}\n"
      ],
      "text/markdown": [
       "\n",
       "| postalCode | propertyStyle | fsa | province | propertyAge | sizeBuild | sizeLot | propertyTax |\n",
       "|---|---|---|---|---|---|---|---|\n",
       "| L9T0J7 | 2      | L9T    | ON     | 7      | 118    | 172    | 232    |\n",
       "\n"
      ],
      "text/plain": [
       "  postalCode propertyStyle fsa province propertyAge sizeBuild sizeLot\n",
       "1 L9T0J7     2             L9T ON       7           118       172    \n",
       "  propertyTax\n",
       "1 232        "
      ]
     },
     "metadata": {},
     "output_type": "display_data"
    }
   ],
   "source": [
    "obs"
   ]
  },
  {
   "cell_type": "code",
   "execution_count": 20,
   "id": "formed-lightning",
   "metadata": {},
   "outputs": [],
   "source": [
    "postalCode = 'L9T0J7'\n",
    "propertyStyle = 2\n",
    "fsa = 'L9T'\n",
    "province = 'ON'\n",
    "propertyAge = 7\n",
    "sizeBuild = 118\n",
    "sizeLot = 172\n",
    "propertyTax = 232"
   ]
  },
  {
   "cell_type": "code",
   "execution_count": 96,
   "id": "assisted-broad",
   "metadata": {},
   "outputs": [],
   "source": [
    "  obs = data.frame('postalCode' = c(postalCode),\n",
    "                   'propertyStyle' = c(propertyStyle),\n",
    "                   'fsa' = c(fsa),\n",
    "                   'province' = c(province),\n",
    "                   'propertyAge' = c(propertyAge),\n",
    "                   'sizeBuild' = c(sizeBuild),\n",
    "                   'sizeLot' = c(sizeLot),\n",
    "                   'propertyTax' = c(propertyTax)\n",
    "                 )\n"
   ]
  },
  {
   "cell_type": "code",
   "execution_count": 97,
   "id": "continent-address",
   "metadata": {},
   "outputs": [
    {
     "data": {
      "text/html": [
       "<table>\n",
       "<thead><tr><th scope=col>postalCode</th><th scope=col>propertyStyle</th><th scope=col>fsa</th><th scope=col>province</th><th scope=col>propertyAge</th><th scope=col>sizeBuild</th><th scope=col>sizeLot</th><th scope=col>propertyTax</th></tr></thead>\n",
       "<tbody>\n",
       "\t<tr><td>L9T0J7</td><td>2     </td><td>L9T   </td><td>ON    </td><td>7     </td><td>118   </td><td>112   </td><td>232   </td></tr>\n",
       "</tbody>\n",
       "</table>\n"
      ],
      "text/latex": [
       "\\begin{tabular}{r|llllllll}\n",
       " postalCode & propertyStyle & fsa & province & propertyAge & sizeBuild & sizeLot & propertyTax\\\\\n",
       "\\hline\n",
       "\t L9T0J7 & 2      & L9T    & ON     & 7      & 118    & 112    & 232   \\\\\n",
       "\\end{tabular}\n"
      ],
      "text/markdown": [
       "\n",
       "| postalCode | propertyStyle | fsa | province | propertyAge | sizeBuild | sizeLot | propertyTax |\n",
       "|---|---|---|---|---|---|---|---|\n",
       "| L9T0J7 | 2      | L9T    | ON     | 7      | 118    | 112    | 232    |\n",
       "\n"
      ],
      "text/plain": [
       "  postalCode propertyStyle fsa province propertyAge sizeBuild sizeLot\n",
       "1 L9T0J7     2             L9T ON       7           118       112    \n",
       "  propertyTax\n",
       "1 232        "
      ]
     },
     "metadata": {},
     "output_type": "display_data"
    }
   ],
   "source": [
    "obs"
   ]
  },
  {
   "cell_type": "code",
   "execution_count": 99,
   "id": "necessary-combine",
   "metadata": {},
   "outputs": [
    {
     "data": {
      "text/html": [
       "L9T0J7\n",
       "<details>\n",
       "\t<summary style=display:list-item;cursor:pointer>\n",
       "\t\t<strong>Levels</strong>:\n",
       "\t</summary>\n",
       "\t'L9T0J7'\n",
       "</details>"
      ],
      "text/latex": [
       "L9T0J7\n",
       "\\emph{Levels}: 'L9T0J7'"
      ],
      "text/markdown": [
       "L9T0J7\n",
       "**Levels**: 'L9T0J7'"
      ],
      "text/plain": [
       "[1] L9T0J7\n",
       "Levels: L9T0J7"
      ]
     },
     "metadata": {},
     "output_type": "display_data"
    }
   ],
   "source": [
    "obs$postalCode"
   ]
  },
  {
   "cell_type": "code",
   "execution_count": null,
   "id": "fewer-extent",
   "metadata": {},
   "outputs": [],
   "source": [
    "http://ec2-18-191-70-76.us-east-2.compute.amazonaws.com/predict_house_price?postalCode='L9T0J7'&propertyStyle=2&fsa='L9T'&province='ON'&propertyAge=7&sizeBuild=118&sizeLot=112&propertyTax=232"
   ]
  },
  {
   "cell_type": "code",
   "execution_count": null,
   "id": "moral-corpus",
   "metadata": {},
   "outputs": [],
   "source": [
    "http://ec2-3-21-92-230.us-east-2.compute.amazonaws.com/predict_house_price?postalCode='L9T0J7'&propertyStyle=2&fsa='L9T'&province='ON'&propertyAge=7&sizeBuild=118&sizeLot=112&propertyTax=232"
   ]
  },
  {
   "cell_type": "code",
   "execution_count": null,
   "id": "thousand-diving",
   "metadata": {},
   "outputs": [],
   "source": [
    "http://ec2-3-15-191-122.us-east-2.compute.amazonaws.com/predict_house_price?postalCode='L9T0J7'&propertyStyle=2&fsa='L9T'&province='ON'&propertyAge=7&sizeBuild=118&sizeLot=112&propertyTax=232"
   ]
  },
  {
   "cell_type": "code",
   "execution_count": 6,
   "id": "explicit-america",
   "metadata": {},
   "outputs": [
    {
     "name": "stdout",
     "output_type": "stream",
     "text": [
      "[1] 2\n"
     ]
    }
   ],
   "source": [
    "print(2)"
   ]
  },
  {
   "cell_type": "code",
   "execution_count": 37,
   "id": "toxic-manufacturer",
   "metadata": {},
   "outputs": [
    {
     "name": "stderr",
     "output_type": "stream",
     "text": [
      "Loading required package: e1071\n",
      "Warning message in library(package, lib.loc = lib.loc, character.only = TRUE, logical.return = TRUE, :\n",
      "\"there is no package called 'e1071'\"Warning message in gzfile(file, \"rb\"):\n",
      "\"cannot open compressed file 'Model/modelAB202011.RDS', probable reason 'No such file or directory'\""
     ]
    },
    {
     "ename": "ERROR",
     "evalue": "Error in gzfile(file, \"rb\"): cannot open the connection\n",
     "output_type": "error",
     "traceback": [
      "Error in gzfile(file, \"rb\"): cannot open the connection\nTraceback:\n",
      "1. readRDS(\"Model/modelAB202011.RDS\")   # at line 28 of file <text>",
      "2. gzfile(file, \"rb\")"
     ]
    }
   ],
   "source": [
    "# -- Setup\n",
    "{\n",
    "  Code = \"Code/\"\n",
    "  Data = \"Data/\"\n",
    "  Model = \"Model/\"\n",
    "  Score = \"Score/\"\n",
    "  \n",
    "  require(dplyr)\n",
    "  require(data.table)\n",
    "#   require(fastDummies)\n",
    "#   require(lubridate)\n",
    "#   require(stringr)\n",
    "#   require(DescTools)\n",
    "#   require(readxl)\n",
    "#   require(bit64)\n",
    "#   require(vcd)\n",
    "#   require(caret)\n",
    "#   require(ranger)\n",
    "#   require(randomForest)\n",
    "#   require(xgboost)\n",
    "  require(gbm)\n",
    "  require(e1071)\n",
    "  require(MASS)\n",
    "}\n",
    "\n",
    "# -- Load Pre-trained models\n",
    "{\n",
    "  mAB = readRDS(\"Model/modelAB202011.RDS\")\n",
    "  mATL = readRDS(\"Model/modelATL202011.RDS\")\n",
    "  mBC = readRDS(\"Model/modelBC202011.RDS\")\n",
    "  mON = readRDS(\"Model/modelON202011.RDS\")\n",
    "  mQC = readRDS(\"Model/modelQC202011.RDS\")\n",
    "  mSKMB = readRDS(\"Model/modelSKMB202011.RDS\")\n",
    "  print(111)\n",
    "}\n",
    "\n",
    "\n",
    "# -- Predict house price\n",
    "#* @get /predict_house_price\n",
    "function(postalCode, propertyStyle ,fsa, province , propertyAge , sizeBuild , sizeLot , propertyTax){\n",
    "\t\t\t \n",
    "  obs = data.frame('postalCode' = c(postalCode),\n",
    "                   'propertyStyle' = as.integer(c(propertyStyle)),\n",
    "                   'fsa' = c(fsa),\n",
    "                   'province' = c(province),\n",
    "                   'propertyAge' = as.integer(c(propertyAge)),\n",
    "                   'sizeBuild' = as.integer(c(sizeBuild)),\n",
    "                   'sizeLot' = as.integer(c(sizeLot)),\n",
    "                   'propertyTax' = as.integer(c(propertyTax))\n",
    "\t\t\t\t   ,  stringsAsFactors = FALSE\n",
    "                 )\n",
    "  print(typeof(obs$postalCode))\n",
    "  print(obs$postalCode)\n",
    "  print(typeof(obs$propertyStyle))\n",
    "  print(obs$propertyStyle)\n",
    "  print(typeof(obs$fsa))\n",
    "  print(obs$fsa)\n",
    "  print(typeof(obs$province))\n",
    "  print(obs$province)\n",
    "  print(typeof(obs$propertyAge))\n",
    "  print(obs$propertyAge)\n",
    "  print(typeof(obs$sizeBuild))\n",
    "  print(obs$sizeBuild)\n",
    "  print(typeof(obs$sizeLot))\n",
    "  print(obs$sizeLot)\n",
    "  print(typeof(obs$propertyTax))\n",
    "  print(obs$propertyTax)\n",
    "  \n",
    "  print(1)\n",
    "  fullManifold = readRDS(\"Data/fullManifold2020.RDS\")\n",
    "  manifold = fullManifold[postalCode==obs$postalCode,][.N,-c(1,2,69)] \n",
    "  print(2)\n",
    "  fullRPS = readRDS(\"Data/fullRPS2020.RDS\")\n",
    "  rps = fullRPS[postalCode==obs$postalCode & propertyStyle==obs$propertyStyle,][.N,-c(1,2,26,27)] \n",
    "\n",
    "  lookupCREA = readRDS(\"Data/cleanCREALookup2020.RDS\")\n",
    "  crea = readRDS(\"Data/cleanCREAData2020.RDS\")\n",
    "  lookup = lookupCREA[FSALDU==obs$postalCode][.N,c(6)]\n",
    "  creaHPI = crea[lookup$CREA_Region==CREA_Region][.N,c(4)]\n",
    "  print(3)\n",
    "  econNat = readRDS(\"Data/cleanEconomic2020National.RDS\")\n",
    "  econProv = readRDS(\"Data/cleanEconomic2020Province.RDS\")\n",
    "  print(7)\n",
    "  econNational = econNat[.N,c(2:4)]\n",
    "  print(8)\n",
    "  econProvincial = econProv[Region==obs$province][.N,3:6]\n",
    "  print(4)\n",
    "  print(obs)\n",
    "  print(creaHPI)\n",
    "  print(econNational)\n",
    "  print(econProvincial)\n",
    "  print(rps)\n",
    "  print(manifold)\n",
    "  obs = cbind(obs,creaHPI,econNational,econProvincial,rps,manifold)\n",
    "  print(78)\n",
    "  obs = obs[,-c(1,3:4)]\n",
    "  print(5)\n",
    "  return(ceiling(exp(predict.gbm(mON,obs)))) \n",
    "} \n"
   ]
  },
  {
   "cell_type": "code",
   "execution_count": 121,
   "id": "controlled-fusion",
   "metadata": {},
   "outputs": [],
   "source": [
    "## three predictions"
   ]
  },
  {
   "cell_type": "code",
   "execution_count": 123,
   "id": "improving-vault",
   "metadata": {
    "scrolled": true
   },
   "outputs": [],
   "source": [
    "# !python -m pip install --user --upgrade pip"
   ]
  },
  {
   "cell_type": "code",
   "execution_count": 7,
   "id": "forward-vehicle",
   "metadata": {},
   "outputs": [],
   "source": [
    "df = readRDS(\"202101modelAdjustmentRawData.RDS\")"
   ]
  },
  {
   "cell_type": "code",
   "execution_count": 8,
   "id": "smart-biodiversity",
   "metadata": {
    "scrolled": true
   },
   "outputs": [
    {
     "data": {
      "text/html": [
       "<table>\n",
       "<thead><tr><th scope=col>postalCode</th><th scope=col>fsa</th><th scope=col>province</th><th scope=col>factor</th></tr></thead>\n",
       "<tbody>\n",
       "\t<tr><td>Y1A8T8</td><td>Y1A   </td><td>YT    </td><td>2     </td></tr>\n",
       "\t<tr><td>Y1A7A4</td><td>Y1A   </td><td>YT    </td><td>2     </td></tr>\n",
       "\t<tr><td>Y1A7A3</td><td>Y1A   </td><td>YT    </td><td>2     </td></tr>\n",
       "\t<tr><td>Y1A7A2</td><td>Y1A   </td><td>YT    </td><td>2     </td></tr>\n",
       "\t<tr><td>Y1A7A1</td><td>Y1A   </td><td>YT    </td><td>2     </td></tr>\n",
       "\t<tr><td>Y1A6W6</td><td>Y1A   </td><td>YT    </td><td>2     </td></tr>\n",
       "\t<tr><td>Y1A6W1</td><td>Y1A   </td><td>YT    </td><td>2     </td></tr>\n",
       "\t<tr><td>Y1A6V9</td><td>Y1A   </td><td>YT    </td><td>2     </td></tr>\n",
       "\t<tr><td>Y1A6V8</td><td>Y1A   </td><td>YT    </td><td>2     </td></tr>\n",
       "\t<tr><td>Y1A6V7</td><td>Y1A   </td><td>YT    </td><td>2     </td></tr>\n",
       "\t<tr><td>Y1A6V6</td><td>Y1A   </td><td>YT    </td><td>2     </td></tr>\n",
       "\t<tr><td>Y1A6V5</td><td>Y1A   </td><td>YT    </td><td>2     </td></tr>\n",
       "\t<tr><td>Y1A6V4</td><td>Y1A   </td><td>YT    </td><td>2     </td></tr>\n",
       "\t<tr><td>Y1A6V3</td><td>Y1A   </td><td>YT    </td><td>2     </td></tr>\n",
       "\t<tr><td>Y1A6V2</td><td>Y1A   </td><td>YT    </td><td>2     </td></tr>\n",
       "\t<tr><td>Y1A6V1</td><td>Y1A   </td><td>YT    </td><td>2     </td></tr>\n",
       "\t<tr><td>Y1A6T9</td><td>Y1A   </td><td>YT    </td><td>2     </td></tr>\n",
       "\t<tr><td>Y1A6T8</td><td>Y1A   </td><td>YT    </td><td>2     </td></tr>\n",
       "\t<tr><td>Y1A6T4</td><td>Y1A   </td><td>YT    </td><td>2     </td></tr>\n",
       "\t<tr><td>Y1A6T3</td><td>Y1A   </td><td>YT    </td><td>2     </td></tr>\n",
       "\t<tr><td>Y1A6T2</td><td>Y1A   </td><td>YT    </td><td>2     </td></tr>\n",
       "\t<tr><td>Y1A6S3</td><td>Y1A   </td><td>YT    </td><td>2     </td></tr>\n",
       "\t<tr><td>Y1A6S1</td><td>Y1A   </td><td>YT    </td><td>2     </td></tr>\n",
       "\t<tr><td>Y1A6R9</td><td>Y1A   </td><td>YT    </td><td>2     </td></tr>\n",
       "\t<tr><td>Y1A6R8</td><td>Y1A   </td><td>YT    </td><td>2     </td></tr>\n",
       "\t<tr><td>Y1A6R6</td><td>Y1A   </td><td>YT    </td><td>2     </td></tr>\n",
       "\t<tr><td>Y1A6R5</td><td>Y1A   </td><td>YT    </td><td>2     </td></tr>\n",
       "\t<tr><td>Y1A6R2</td><td>Y1A   </td><td>YT    </td><td>2     </td></tr>\n",
       "\t<tr><td>Y1A6R1</td><td>Y1A   </td><td>YT    </td><td>2     </td></tr>\n",
       "\t<tr><td>Y1A6P9</td><td>Y1A   </td><td>YT    </td><td>2     </td></tr>\n",
       "\t<tr><td>...</td><td>...</td><td>...</td><td>...</td></tr>\n",
       "\t<tr><td>A1A0B5</td><td>A1A   </td><td>NL    </td><td>1     </td></tr>\n",
       "\t<tr><td>A1A0B4</td><td>A1A   </td><td>NL    </td><td>1     </td></tr>\n",
       "\t<tr><td>A1A0B3</td><td>A1A   </td><td>NL    </td><td>1     </td></tr>\n",
       "\t<tr><td>A1A0B0</td><td>A1A   </td><td>NL    </td><td>1     </td></tr>\n",
       "\t<tr><td>A1A0A9</td><td>A1A   </td><td>NL    </td><td>1     </td></tr>\n",
       "\t<tr><td>A1A0A8</td><td>A1A   </td><td>NL    </td><td>1     </td></tr>\n",
       "\t<tr><td>A1A0A6</td><td>A1A   </td><td>NL    </td><td>1     </td></tr>\n",
       "\t<tr><td>A1A0A5</td><td>A1A   </td><td>NL    </td><td>1     </td></tr>\n",
       "\t<tr><td>A1A0A4</td><td>A1A   </td><td>NL    </td><td>1     </td></tr>\n",
       "\t<tr><td>A1A0A3</td><td>A1A   </td><td>NL    </td><td>1     </td></tr>\n",
       "\t<tr><td>A1A0A2</td><td>A1A   </td><td>NL    </td><td>1     </td></tr>\n",
       "\t<tr><td>A1A0A0</td><td>A1A   </td><td>NL    </td><td>1     </td></tr>\n",
       "\t<tr><td>A1A   </td><td>A1A   </td><td>NL    </td><td>1     </td></tr>\n",
       "\t<tr><td>A0P1S0</td><td>A0P   </td><td>NL    </td><td>1     </td></tr>\n",
       "\t<tr><td>A0P1P0</td><td>A0P   </td><td>NL    </td><td>1     </td></tr>\n",
       "\t<tr><td>A0P1N0</td><td>A0P   </td><td>NL    </td><td>1     </td></tr>\n",
       "\t<tr><td>A0P1K0</td><td>A0P   </td><td>NL    </td><td>1     </td></tr>\n",
       "\t<tr><td>A0P1G0</td><td>A0P   </td><td>NL    </td><td>1     </td></tr>\n",
       "\t<tr><td>A0P0A5</td><td>A0P   </td><td>NL    </td><td>1     </td></tr>\n",
       "\t<tr><td>A0M3M4</td><td>A0M   </td><td>NL    </td><td>1     </td></tr>\n",
       "\t<tr><td>A0M2M0</td><td>A0M   </td><td>NL    </td><td>1     </td></tr>\n",
       "\t<tr><td>A0M1K0</td><td>A0M   </td><td>NL    </td><td>1     </td></tr>\n",
       "\t<tr><td>A0M1C1</td><td>A0M   </td><td>NL    </td><td>1     </td></tr>\n",
       "\t<tr><td>A0M0E0</td><td>A0M   </td><td>SK    </td><td>1     </td></tr>\n",
       "\t<tr><td>A0L1S1</td><td>A0L   </td><td>NL    </td><td>1     </td></tr>\n",
       "\t<tr><td>A0E1J1</td><td>A0E   </td><td>NL    </td><td>1     </td></tr>\n",
       "\t<tr><td>A0A3K1</td><td>A0A   </td><td>NL    </td><td>1     </td></tr>\n",
       "\t<tr><td>A0A3H1</td><td>A0A   </td><td>NL    </td><td>1     </td></tr>\n",
       "\t<tr><td>A0A2B2</td><td>A0A   </td><td>NL    </td><td>1     </td></tr>\n",
       "\t<tr><td>A0A0C2</td><td>A0A   </td><td>NL    </td><td>1     </td></tr>\n",
       "</tbody>\n",
       "</table>\n"
      ],
      "text/latex": [
       "\\begin{tabular}{r|llll}\n",
       " postalCode & fsa & province & factor\\\\\n",
       "\\hline\n",
       "\t Y1A8T8 & Y1A    & YT     & 2     \\\\\n",
       "\t Y1A7A4 & Y1A    & YT     & 2     \\\\\n",
       "\t Y1A7A3 & Y1A    & YT     & 2     \\\\\n",
       "\t Y1A7A2 & Y1A    & YT     & 2     \\\\\n",
       "\t Y1A7A1 & Y1A    & YT     & 2     \\\\\n",
       "\t Y1A6W6 & Y1A    & YT     & 2     \\\\\n",
       "\t Y1A6W1 & Y1A    & YT     & 2     \\\\\n",
       "\t Y1A6V9 & Y1A    & YT     & 2     \\\\\n",
       "\t Y1A6V8 & Y1A    & YT     & 2     \\\\\n",
       "\t Y1A6V7 & Y1A    & YT     & 2     \\\\\n",
       "\t Y1A6V6 & Y1A    & YT     & 2     \\\\\n",
       "\t Y1A6V5 & Y1A    & YT     & 2     \\\\\n",
       "\t Y1A6V4 & Y1A    & YT     & 2     \\\\\n",
       "\t Y1A6V3 & Y1A    & YT     & 2     \\\\\n",
       "\t Y1A6V2 & Y1A    & YT     & 2     \\\\\n",
       "\t Y1A6V1 & Y1A    & YT     & 2     \\\\\n",
       "\t Y1A6T9 & Y1A    & YT     & 2     \\\\\n",
       "\t Y1A6T8 & Y1A    & YT     & 2     \\\\\n",
       "\t Y1A6T4 & Y1A    & YT     & 2     \\\\\n",
       "\t Y1A6T3 & Y1A    & YT     & 2     \\\\\n",
       "\t Y1A6T2 & Y1A    & YT     & 2     \\\\\n",
       "\t Y1A6S3 & Y1A    & YT     & 2     \\\\\n",
       "\t Y1A6S1 & Y1A    & YT     & 2     \\\\\n",
       "\t Y1A6R9 & Y1A    & YT     & 2     \\\\\n",
       "\t Y1A6R8 & Y1A    & YT     & 2     \\\\\n",
       "\t Y1A6R6 & Y1A    & YT     & 2     \\\\\n",
       "\t Y1A6R5 & Y1A    & YT     & 2     \\\\\n",
       "\t Y1A6R2 & Y1A    & YT     & 2     \\\\\n",
       "\t Y1A6R1 & Y1A    & YT     & 2     \\\\\n",
       "\t Y1A6P9 & Y1A    & YT     & 2     \\\\\n",
       "\t ... & ... & ... & ...\\\\\n",
       "\t A1A0B5 & A1A    & NL     & 1     \\\\\n",
       "\t A1A0B4 & A1A    & NL     & 1     \\\\\n",
       "\t A1A0B3 & A1A    & NL     & 1     \\\\\n",
       "\t A1A0B0 & A1A    & NL     & 1     \\\\\n",
       "\t A1A0A9 & A1A    & NL     & 1     \\\\\n",
       "\t A1A0A8 & A1A    & NL     & 1     \\\\\n",
       "\t A1A0A6 & A1A    & NL     & 1     \\\\\n",
       "\t A1A0A5 & A1A    & NL     & 1     \\\\\n",
       "\t A1A0A4 & A1A    & NL     & 1     \\\\\n",
       "\t A1A0A3 & A1A    & NL     & 1     \\\\\n",
       "\t A1A0A2 & A1A    & NL     & 1     \\\\\n",
       "\t A1A0A0 & A1A    & NL     & 1     \\\\\n",
       "\t A1A    & A1A    & NL     & 1     \\\\\n",
       "\t A0P1S0 & A0P    & NL     & 1     \\\\\n",
       "\t A0P1P0 & A0P    & NL     & 1     \\\\\n",
       "\t A0P1N0 & A0P    & NL     & 1     \\\\\n",
       "\t A0P1K0 & A0P    & NL     & 1     \\\\\n",
       "\t A0P1G0 & A0P    & NL     & 1     \\\\\n",
       "\t A0P0A5 & A0P    & NL     & 1     \\\\\n",
       "\t A0M3M4 & A0M    & NL     & 1     \\\\\n",
       "\t A0M2M0 & A0M    & NL     & 1     \\\\\n",
       "\t A0M1K0 & A0M    & NL     & 1     \\\\\n",
       "\t A0M1C1 & A0M    & NL     & 1     \\\\\n",
       "\t A0M0E0 & A0M    & SK     & 1     \\\\\n",
       "\t A0L1S1 & A0L    & NL     & 1     \\\\\n",
       "\t A0E1J1 & A0E    & NL     & 1     \\\\\n",
       "\t A0A3K1 & A0A    & NL     & 1     \\\\\n",
       "\t A0A3H1 & A0A    & NL     & 1     \\\\\n",
       "\t A0A2B2 & A0A    & NL     & 1     \\\\\n",
       "\t A0A0C2 & A0A    & NL     & 1     \\\\\n",
       "\\end{tabular}\n"
      ],
      "text/markdown": [
       "\n",
       "| postalCode | fsa | province | factor |\n",
       "|---|---|---|---|\n",
       "| Y1A8T8 | Y1A    | YT     | 2      |\n",
       "| Y1A7A4 | Y1A    | YT     | 2      |\n",
       "| Y1A7A3 | Y1A    | YT     | 2      |\n",
       "| Y1A7A2 | Y1A    | YT     | 2      |\n",
       "| Y1A7A1 | Y1A    | YT     | 2      |\n",
       "| Y1A6W6 | Y1A    | YT     | 2      |\n",
       "| Y1A6W1 | Y1A    | YT     | 2      |\n",
       "| Y1A6V9 | Y1A    | YT     | 2      |\n",
       "| Y1A6V8 | Y1A    | YT     | 2      |\n",
       "| Y1A6V7 | Y1A    | YT     | 2      |\n",
       "| Y1A6V6 | Y1A    | YT     | 2      |\n",
       "| Y1A6V5 | Y1A    | YT     | 2      |\n",
       "| Y1A6V4 | Y1A    | YT     | 2      |\n",
       "| Y1A6V3 | Y1A    | YT     | 2      |\n",
       "| Y1A6V2 | Y1A    | YT     | 2      |\n",
       "| Y1A6V1 | Y1A    | YT     | 2      |\n",
       "| Y1A6T9 | Y1A    | YT     | 2      |\n",
       "| Y1A6T8 | Y1A    | YT     | 2      |\n",
       "| Y1A6T4 | Y1A    | YT     | 2      |\n",
       "| Y1A6T3 | Y1A    | YT     | 2      |\n",
       "| Y1A6T2 | Y1A    | YT     | 2      |\n",
       "| Y1A6S3 | Y1A    | YT     | 2      |\n",
       "| Y1A6S1 | Y1A    | YT     | 2      |\n",
       "| Y1A6R9 | Y1A    | YT     | 2      |\n",
       "| Y1A6R8 | Y1A    | YT     | 2      |\n",
       "| Y1A6R6 | Y1A    | YT     | 2      |\n",
       "| Y1A6R5 | Y1A    | YT     | 2      |\n",
       "| Y1A6R2 | Y1A    | YT     | 2      |\n",
       "| Y1A6R1 | Y1A    | YT     | 2      |\n",
       "| Y1A6P9 | Y1A    | YT     | 2      |\n",
       "| ... | ... | ... | ... |\n",
       "| A1A0B5 | A1A    | NL     | 1      |\n",
       "| A1A0B4 | A1A    | NL     | 1      |\n",
       "| A1A0B3 | A1A    | NL     | 1      |\n",
       "| A1A0B0 | A1A    | NL     | 1      |\n",
       "| A1A0A9 | A1A    | NL     | 1      |\n",
       "| A1A0A8 | A1A    | NL     | 1      |\n",
       "| A1A0A6 | A1A    | NL     | 1      |\n",
       "| A1A0A5 | A1A    | NL     | 1      |\n",
       "| A1A0A4 | A1A    | NL     | 1      |\n",
       "| A1A0A3 | A1A    | NL     | 1      |\n",
       "| A1A0A2 | A1A    | NL     | 1      |\n",
       "| A1A0A0 | A1A    | NL     | 1      |\n",
       "| A1A    | A1A    | NL     | 1      |\n",
       "| A0P1S0 | A0P    | NL     | 1      |\n",
       "| A0P1P0 | A0P    | NL     | 1      |\n",
       "| A0P1N0 | A0P    | NL     | 1      |\n",
       "| A0P1K0 | A0P    | NL     | 1      |\n",
       "| A0P1G0 | A0P    | NL     | 1      |\n",
       "| A0P0A5 | A0P    | NL     | 1      |\n",
       "| A0M3M4 | A0M    | NL     | 1      |\n",
       "| A0M2M0 | A0M    | NL     | 1      |\n",
       "| A0M1K0 | A0M    | NL     | 1      |\n",
       "| A0M1C1 | A0M    | NL     | 1      |\n",
       "| A0M0E0 | A0M    | SK     | 1      |\n",
       "| A0L1S1 | A0L    | NL     | 1      |\n",
       "| A0E1J1 | A0E    | NL     | 1      |\n",
       "| A0A3K1 | A0A    | NL     | 1      |\n",
       "| A0A3H1 | A0A    | NL     | 1      |\n",
       "| A0A2B2 | A0A    | NL     | 1      |\n",
       "| A0A0C2 | A0A    | NL     | 1      |\n",
       "\n"
      ],
      "text/plain": [
       "       postalCode fsa province factor\n",
       "1      Y1A8T8     Y1A YT       2     \n",
       "2      Y1A7A4     Y1A YT       2     \n",
       "3      Y1A7A3     Y1A YT       2     \n",
       "4      Y1A7A2     Y1A YT       2     \n",
       "5      Y1A7A1     Y1A YT       2     \n",
       "6      Y1A6W6     Y1A YT       2     \n",
       "7      Y1A6W1     Y1A YT       2     \n",
       "8      Y1A6V9     Y1A YT       2     \n",
       "9      Y1A6V8     Y1A YT       2     \n",
       "10     Y1A6V7     Y1A YT       2     \n",
       "11     Y1A6V6     Y1A YT       2     \n",
       "12     Y1A6V5     Y1A YT       2     \n",
       "13     Y1A6V4     Y1A YT       2     \n",
       "14     Y1A6V3     Y1A YT       2     \n",
       "15     Y1A6V2     Y1A YT       2     \n",
       "16     Y1A6V1     Y1A YT       2     \n",
       "17     Y1A6T9     Y1A YT       2     \n",
       "18     Y1A6T8     Y1A YT       2     \n",
       "19     Y1A6T4     Y1A YT       2     \n",
       "20     Y1A6T3     Y1A YT       2     \n",
       "21     Y1A6T2     Y1A YT       2     \n",
       "22     Y1A6S3     Y1A YT       2     \n",
       "23     Y1A6S1     Y1A YT       2     \n",
       "24     Y1A6R9     Y1A YT       2     \n",
       "25     Y1A6R8     Y1A YT       2     \n",
       "26     Y1A6R6     Y1A YT       2     \n",
       "27     Y1A6R5     Y1A YT       2     \n",
       "28     Y1A6R2     Y1A YT       2     \n",
       "29     Y1A6R1     Y1A YT       2     \n",
       "30     Y1A6P9     Y1A YT       2     \n",
       "...    ...        ... ...      ...   \n",
       "583591 A1A0B5     A1A NL       1     \n",
       "583592 A1A0B4     A1A NL       1     \n",
       "583593 A1A0B3     A1A NL       1     \n",
       "583594 A1A0B0     A1A NL       1     \n",
       "583595 A1A0A9     A1A NL       1     \n",
       "583596 A1A0A8     A1A NL       1     \n",
       "583597 A1A0A6     A1A NL       1     \n",
       "583598 A1A0A5     A1A NL       1     \n",
       "583599 A1A0A4     A1A NL       1     \n",
       "583600 A1A0A3     A1A NL       1     \n",
       "583601 A1A0A2     A1A NL       1     \n",
       "583602 A1A0A0     A1A NL       1     \n",
       "583603 A1A        A1A NL       1     \n",
       "583604 A0P1S0     A0P NL       1     \n",
       "583605 A0P1P0     A0P NL       1     \n",
       "583606 A0P1N0     A0P NL       1     \n",
       "583607 A0P1K0     A0P NL       1     \n",
       "583608 A0P1G0     A0P NL       1     \n",
       "583609 A0P0A5     A0P NL       1     \n",
       "583610 A0M3M4     A0M NL       1     \n",
       "583611 A0M2M0     A0M NL       1     \n",
       "583612 A0M1K0     A0M NL       1     \n",
       "583613 A0M1C1     A0M NL       1     \n",
       "583614 A0M0E0     A0M SK       1     \n",
       "583615 A0L1S1     A0L NL       1     \n",
       "583616 A0E1J1     A0E NL       1     \n",
       "583617 A0A3K1     A0A NL       1     \n",
       "583618 A0A3H1     A0A NL       1     \n",
       "583619 A0A2B2     A0A NL       1     \n",
       "583620 A0A0C2     A0A NL       1     "
      ]
     },
     "metadata": {},
     "output_type": "display_data"
    }
   ],
   "source": [
    "df"
   ]
  },
  {
   "cell_type": "code",
   "execution_count": 9,
   "id": "corresponding-amber",
   "metadata": {},
   "outputs": [
    {
     "data": {
      "text/html": [
       "<ol class=list-inline>\n",
       "\t<li>583620</li>\n",
       "\t<li>4</li>\n",
       "</ol>\n"
      ],
      "text/latex": [
       "\\begin{enumerate*}\n",
       "\\item 583620\n",
       "\\item 4\n",
       "\\end{enumerate*}\n"
      ],
      "text/markdown": [
       "1. 583620\n",
       "2. 4\n",
       "\n",
       "\n"
      ],
      "text/plain": [
       "[1] 583620      4"
      ]
     },
     "metadata": {},
     "output_type": "display_data"
    }
   ],
   "source": [
    "dim(df)"
   ]
  },
  {
   "cell_type": "code",
   "execution_count": 19,
   "id": "angry-steal",
   "metadata": {},
   "outputs": [
    {
     "data": {
      "text/html": [
       "583620"
      ],
      "text/latex": [
       "583620"
      ],
      "text/markdown": [
       "583620"
      ],
      "text/plain": [
       "[1] 583620"
      ]
     },
     "metadata": {},
     "output_type": "display_data"
    }
   ],
   "source": [
    "length(unique(df$postalCode))"
   ]
  },
  {
   "cell_type": "code",
   "execution_count": 142,
   "id": "dedicated-avenue",
   "metadata": {},
   "outputs": [],
   "source": [
    "postalCode = 'L9T0J7'\n",
    "propertyStyle = 2\n",
    "fsa = 'L9T'\n",
    "province = 'ON'\n",
    "propertyAge = 7\n",
    "sizeBuild = 118\n",
    "sizeLot = 172\n",
    "propertyTax = 232"
   ]
  },
  {
   "cell_type": "code",
   "execution_count": 77,
   "id": "opened-guide",
   "metadata": {},
   "outputs": [
    {
     "data": {
      "text/html": [
       "'character'"
      ],
      "text/latex": [
       "'character'"
      ],
      "text/markdown": [
       "'character'"
      ],
      "text/plain": [
       "[1] \"character\""
      ]
     },
     "metadata": {},
     "output_type": "display_data"
    },
    {
     "name": "stdout",
     "output_type": "stream",
     "text": [
      "[1] \"L9T\"\n"
     ]
    }
   ],
   "source": [
    "class(postalCode)\n",
    "print(substr(postalCode, 1, 3))"
   ]
  },
  {
   "cell_type": "code",
   "execution_count": 80,
   "id": "residential-privilege",
   "metadata": {},
   "outputs": [
    {
     "name": "stderr",
     "output_type": "stream",
     "text": [
      "Loading required package: e1071\n",
      "Warning message in library(package, lib.loc = lib.loc, character.only = TRUE, logical.return = TRUE, :\n",
      "\"there is no package called 'e1071'\""
     ]
    }
   ],
   "source": [
    "# -- Setup\n",
    "{\n",
    "  Code = \"Code/\"\n",
    "  Data = \"Data/\"\n",
    "  Model = \"Model/\"\n",
    "  Score = \"Score/\"\n",
    "  \n",
    "  require(dplyr)\n",
    "  require(data.table)\n",
    "#   require(fastDummies)\n",
    "#   require(lubridate)\n",
    "#   require(stringr)\n",
    "#   require(DescTools)\n",
    "#   require(readxl)\n",
    "#   require(bit64)\n",
    "#   require(vcd)\n",
    "#   require(caret)\n",
    "#   require(ranger)\n",
    "#   require(randomForest)\n",
    "#   require(xgboost)\n",
    "  require(gbm)\n",
    "  require(e1071)\n",
    "  require(MASS)\n",
    "}\n",
    "\n",
    "# -- Load Pre-trained models\n",
    "{\n",
    "  mAB = readRDS(\"modelAB202011.RDS\")\n",
    "  mATL = readRDS(\"modelATL202011.RDS\")\n",
    "  mBC = readRDS(\"modelBC202011.RDS\")\n",
    "  mON = readRDS(\"modelON202011.RDS\")\n",
    "  mQC = readRDS(\"modelQC202011.RDS\")\n",
    "  mSKMB = readRDS(\"modelSKMB202011.RDS\")\n",
    "}\n",
    "\n",
    "# -- Load the datasets\n",
    "\n",
    "{\n",
    "fullManifold = readRDS(\"fullManifold2020.RDS\")\n",
    "fullRPS = readRDS(\"fullRPS2020.RDS\")\n",
    "lookupCREA = readRDS(\"cleanCREALookup2020.RDS\")\n",
    "crea = readRDS(\"cleanCREAData2020.RDS\")\n",
    "econNat = readRDS(\"cleanEconomic2020National.RDS\")\n",
    "econProv = readRDS(\"cleanEconomic2020Province.RDS\")\n",
    "factor = readRDS(\"202101modelAdjustmentRawData.RDS\")\n",
    "\n",
    "}\n"
   ]
  },
  {
   "cell_type": "code",
   "execution_count": 143,
   "id": "ordered-bundle",
   "metadata": {},
   "outputs": [
    {
     "name": "stderr",
     "output_type": "stream",
     "text": [
      "Using 15000 trees...\n",
      "\n"
     ]
    },
    {
     "data": {
      "text/plain": [
       "{\"low\":713353,\"med\":671391,\"high\":1132973} "
      ]
     },
     "metadata": {},
     "output_type": "display_data"
    }
   ],
   "source": [
    "{\n",
    "\t\t\t \n",
    "  obs = data.frame('postalCode' = c(postalCode),\n",
    "                   'propertyStyle' = as.integer(c(propertyStyle)),\n",
    "                   'fsa' = c(substr(postalCode, 1, 3)),\n",
    "                   'province' = c(province),\n",
    "                   'propertyAge' = as.integer(c(propertyAge)),\n",
    "                   'sizeBuild' = as.integer(c(sizeBuild)),\n",
    "                   'sizeLot' = as.integer(c(sizeLot)),\n",
    "                   'propertyTax' = as.integer(c(propertyTax))\n",
    "\t\t\t\t   ,  stringsAsFactors = FALSE\n",
    "                 )\n",
    "  \n",
    "#  fullManifold = readRDS(\"Data/fullManifold2020.RDS\")\n",
    "  manifold = fullManifold[postalCode==obs$postalCode,][.N,-c(1,2,69)] \n",
    "\n",
    "#  fullRPS = readRDS(\"Data/fullRPS2020.RDS\")\n",
    "  rps = fullRPS[postalCode==obs$postalCode & propertyStyle==obs$propertyStyle,][.N,-c(1,2,26,27)] \n",
    "\n",
    "#  lookupCREA = readRDS(\"Data/cleanCREALookup2020.RDS\")\n",
    "#  crea = readRDS(\"Data/cleanCREAData2020.RDS\")\n",
    "  lookup = lookupCREA[FSALDU==obs$postalCode][.N,c(6)]\n",
    "  creaHPI = crea[lookup$CREA_Region==CREA_Region][.N,c(4)]\n",
    "\n",
    "#  econNat = readRDS(\"Data/cleanEconomic2020National.RDS\")\n",
    "#  econProv = readRDS(\"Data/cleanEconomic2020Province.RDS\")\n",
    "\n",
    "  econNational = econNat[.N,c(2:4)]\n",
    "\n",
    "  econProvincial = econProv[Region==obs$province][.N,3:6]\n",
    "\n",
    "  obs = cbind(obs,creaHPI,econNational,econProvincial,rps,manifold)\n",
    "\n",
    "  obs = obs[,-c(1,3:4)]\n",
    "    \n",
    "  med = ceiling(exp(predict.gbm(mON,obs)))\n",
    "    \n",
    "  final = data.frame('postalCode' = c(postalCode),\n",
    "                   'fsa' = c(substr(postalCode, 1, 3)),\n",
    "                   'province' = c(province)\n",
    "                          ,stringsAsFactors = FALSE)\n",
    "\n",
    "  fact = factor[postalCode==final$postalCode & fsa==final$fsa,]$factor\n",
    "    \n",
    "  if (fact == 1) {\n",
    "      adjusted_house_price = med *1.25\n",
    "      low = 0.85*adjusted_house_price\n",
    "      high = 1.35*adjusted_house_price\n",
    "  } else {\n",
    "      adjusted_house_price = med*1.1\n",
    "      low = 0.75*adjusted_house_price\n",
    "      high = 1.15*adjusted_house_price\n",
    "  }  \n",
    "  \n",
    "#   response = data.frame('low' = c(ceiling(low)), 'med' = c(ceiling(med)), 'high' = c(ceiling(high)))\n",
    "#   return(list(ceiling(low),ceiling(med),ceiling(high)))\n",
    "#   return(jsonlite::toJSON(as.list(response), auto_unbox = TRUE))\n",
    "  response <- list( 'low' = ceiling(low),\n",
    "          'med' = ceiling(med),\n",
    "          'high' = ceiling(high))\n",
    "  return(jsonlite::toJSON( response , auto_unbox = TRUE)) \n",
    "  \n",
    "}"
   ]
  },
  {
   "cell_type": "code",
   "execution_count": null,
   "id": "international-collection",
   "metadata": {},
   "outputs": [],
   "source": []
  }
 ],
 "metadata": {
  "kernelspec": {
   "display_name": "R",
   "language": "R",
   "name": "ir"
  },
  "language_info": {
   "codemirror_mode": "r",
   "file_extension": ".r",
   "mimetype": "text/x-r-source",
   "name": "R",
   "pygments_lexer": "r",
   "version": "3.6.1"
  }
 },
 "nbformat": 4,
 "nbformat_minor": 5
}
